{
 "cells": [
  {
   "cell_type": "code",
   "execution_count": 29,
   "id": "9c57a2fb",
   "metadata": {},
   "outputs": [],
   "source": [
    "import requests\n",
    "import defs\n",
    "import pandas as pd\n"
   ]
  },
  {
   "cell_type": "code",
   "execution_count": 2,
   "id": "c3a5746b",
   "metadata": {},
   "outputs": [],
   "source": [
    "session = requests.Session()"
   ]
  },
  {
   "cell_type": "code",
   "execution_count": 7,
   "id": "115fb724",
   "metadata": {},
   "outputs": [],
   "source": [
    "url = f\"{defs.OANDO_URL}/accounts/{defs.ACCOUNT_ID}/instruments/\""
   ]
  },
  {
   "cell_type": "code",
   "execution_count": 8,
   "id": "ddd30226",
   "metadata": {},
   "outputs": [
    {
     "data": {
      "text/plain": [
       "'https://api-fxpractice.oanda.com/v3/accounts/101-001-31560041-001/instruments/'"
      ]
     },
     "execution_count": 8,
     "metadata": {},
     "output_type": "execute_result"
    }
   ],
   "source": [
    "url"
   ]
  },
  {
   "cell_type": "code",
   "execution_count": 9,
   "id": "21eeb73c",
   "metadata": {},
   "outputs": [],
   "source": [
    "response = session.get(url, params=None, headers=defs.SECURE_HEADER)\n"
   ]
  },
  {
   "cell_type": "code",
   "execution_count": 10,
   "id": "4c07f943",
   "metadata": {},
   "outputs": [
    {
     "data": {
      "text/plain": [
       "200"
      ]
     },
     "execution_count": 10,
     "metadata": {},
     "output_type": "execute_result"
    }
   ],
   "source": [
    "response.status_code"
   ]
  },
  {
   "cell_type": "code",
   "execution_count": 12,
   "id": "719d9ed8",
   "metadata": {},
   "outputs": [],
   "source": [
    "data = response.json()"
   ]
  },
  {
   "cell_type": "code",
   "execution_count": 13,
   "id": "447508f0",
   "metadata": {},
   "outputs": [
    {
     "data": {
      "text/plain": [
       "dict_keys(['instruments', 'lastTransactionID'])"
      ]
     },
     "execution_count": 13,
     "metadata": {},
     "output_type": "execute_result"
    }
   ],
   "source": [
    "data.keys()"
   ]
  },
  {
   "cell_type": "code",
   "execution_count": null,
   "id": "6042695d",
   "metadata": {},
   "outputs": [],
   "source": [
    "instruments = data['instruments']"
   ]
  },
  {
   "cell_type": "code",
   "execution_count": 26,
   "id": "c7187656",
   "metadata": {},
   "outputs": [
    {
     "data": {
      "text/plain": [
       "dict_keys(['name', 'type', 'displayName', 'pipLocation', 'displayPrecision', 'tradeUnitsPrecision', 'minimumTradeSize', 'maximumTrailingStopDistance', 'minimumTrailingStopDistance', 'maximumPositionSize', 'maximumOrderUnits', 'marginRate', 'guaranteedStopLossOrderMode', 'tags', 'financing'])"
      ]
     },
     "execution_count": 26,
     "metadata": {},
     "output_type": "execute_result"
    }
   ],
   "source": [
    "instruments[0].keys()"
   ]
  },
  {
   "cell_type": "code",
   "execution_count": 27,
   "id": "04fa1b8e",
   "metadata": {},
   "outputs": [],
   "source": [
    "instrument_data = []\n",
    "for item in instruments:\n",
    "    new_ob = dict(\n",
    "        name = item['name'],\n",
    "        type = item['type'],\n",
    "        displayName = item['displayName'],\n",
    "        pipLocation = item['pipLocation'],\n",
    "        marginRate = item['marginRate']\n",
    "    )\n",
    "    instrument_data.append(new_ob)"
   ]
  },
  {
   "cell_type": "code",
   "execution_count": 30,
   "id": "25cac1ed",
   "metadata": {},
   "outputs": [
    {
     "name": "stdout",
     "output_type": "stream",
     "text": [
      "{'name': 'USD_HKD', 'type': 'CURRENCY', 'displayName': 'USD/HKD', 'pipLocation': -4, 'marginRate': '0.1'}\n",
      "{'name': 'USD_CNH', 'type': 'CURRENCY', 'displayName': 'USD/CNH', 'pipLocation': -4, 'marginRate': '0.05'}\n",
      "{'name': 'SGD_CHF', 'type': 'CURRENCY', 'displayName': 'SGD/CHF', 'pipLocation': -4, 'marginRate': '0.05'}\n"
     ]
    }
   ],
   "source": [
    "for item in instrument_data[0:3]:\n",
    "    print(item)"
   ]
  },
  {
   "cell_type": "code",
   "execution_count": 31,
   "id": "55ca18e6",
   "metadata": {},
   "outputs": [],
   "source": [
    "instrument_df = pd.DataFrame(instrument_data)"
   ]
  },
  {
   "cell_type": "code",
   "execution_count": 32,
   "id": "fea5f39e",
   "metadata": {},
   "outputs": [
    {
     "data": {
      "text/html": [
       "<div>\n",
       "<style scoped>\n",
       "    .dataframe tbody tr th:only-of-type {\n",
       "        vertical-align: middle;\n",
       "    }\n",
       "\n",
       "    .dataframe tbody tr th {\n",
       "        vertical-align: top;\n",
       "    }\n",
       "\n",
       "    .dataframe thead th {\n",
       "        text-align: right;\n",
       "    }\n",
       "</style>\n",
       "<table border=\"1\" class=\"dataframe\">\n",
       "  <thead>\n",
       "    <tr style=\"text-align: right;\">\n",
       "      <th></th>\n",
       "      <th>name</th>\n",
       "      <th>type</th>\n",
       "      <th>displayName</th>\n",
       "      <th>pipLocation</th>\n",
       "      <th>marginRate</th>\n",
       "    </tr>\n",
       "  </thead>\n",
       "  <tbody>\n",
       "    <tr>\n",
       "      <th>0</th>\n",
       "      <td>USD_HKD</td>\n",
       "      <td>CURRENCY</td>\n",
       "      <td>USD/HKD</td>\n",
       "      <td>-4</td>\n",
       "      <td>0.1</td>\n",
       "    </tr>\n",
       "    <tr>\n",
       "      <th>1</th>\n",
       "      <td>USD_CNH</td>\n",
       "      <td>CURRENCY</td>\n",
       "      <td>USD/CNH</td>\n",
       "      <td>-4</td>\n",
       "      <td>0.05</td>\n",
       "    </tr>\n",
       "    <tr>\n",
       "      <th>2</th>\n",
       "      <td>SGD_CHF</td>\n",
       "      <td>CURRENCY</td>\n",
       "      <td>SGD/CHF</td>\n",
       "      <td>-4</td>\n",
       "      <td>0.05</td>\n",
       "    </tr>\n",
       "    <tr>\n",
       "      <th>3</th>\n",
       "      <td>NZD_CAD</td>\n",
       "      <td>CURRENCY</td>\n",
       "      <td>NZD/CAD</td>\n",
       "      <td>-4</td>\n",
       "      <td>0.03</td>\n",
       "    </tr>\n",
       "    <tr>\n",
       "      <th>4</th>\n",
       "      <td>NZD_JPY</td>\n",
       "      <td>CURRENCY</td>\n",
       "      <td>NZD/JPY</td>\n",
       "      <td>-2</td>\n",
       "      <td>0.05</td>\n",
       "    </tr>\n",
       "    <tr>\n",
       "      <th>...</th>\n",
       "      <td>...</td>\n",
       "      <td>...</td>\n",
       "      <td>...</td>\n",
       "      <td>...</td>\n",
       "      <td>...</td>\n",
       "    </tr>\n",
       "    <tr>\n",
       "      <th>63</th>\n",
       "      <td>USD_SGD</td>\n",
       "      <td>CURRENCY</td>\n",
       "      <td>USD/SGD</td>\n",
       "      <td>-4</td>\n",
       "      <td>0.05</td>\n",
       "    </tr>\n",
       "    <tr>\n",
       "      <th>64</th>\n",
       "      <td>GBP_NZD</td>\n",
       "      <td>CURRENCY</td>\n",
       "      <td>GBP/NZD</td>\n",
       "      <td>-4</td>\n",
       "      <td>0.05</td>\n",
       "    </tr>\n",
       "    <tr>\n",
       "      <th>65</th>\n",
       "      <td>USD_TRY</td>\n",
       "      <td>CURRENCY</td>\n",
       "      <td>USD/TRY</td>\n",
       "      <td>-4</td>\n",
       "      <td>0.25</td>\n",
       "    </tr>\n",
       "    <tr>\n",
       "      <th>66</th>\n",
       "      <td>GBP_JPY</td>\n",
       "      <td>CURRENCY</td>\n",
       "      <td>GBP/JPY</td>\n",
       "      <td>-2</td>\n",
       "      <td>0.05</td>\n",
       "    </tr>\n",
       "    <tr>\n",
       "      <th>67</th>\n",
       "      <td>CHF_HKD</td>\n",
       "      <td>CURRENCY</td>\n",
       "      <td>CHF/HKD</td>\n",
       "      <td>-4</td>\n",
       "      <td>0.1</td>\n",
       "    </tr>\n",
       "  </tbody>\n",
       "</table>\n",
       "<p>68 rows × 5 columns</p>\n",
       "</div>"
      ],
      "text/plain": [
       "       name      type displayName  pipLocation marginRate\n",
       "0   USD_HKD  CURRENCY     USD/HKD           -4        0.1\n",
       "1   USD_CNH  CURRENCY     USD/CNH           -4       0.05\n",
       "2   SGD_CHF  CURRENCY     SGD/CHF           -4       0.05\n",
       "3   NZD_CAD  CURRENCY     NZD/CAD           -4       0.03\n",
       "4   NZD_JPY  CURRENCY     NZD/JPY           -2       0.05\n",
       "..      ...       ...         ...          ...        ...\n",
       "63  USD_SGD  CURRENCY     USD/SGD           -4       0.05\n",
       "64  GBP_NZD  CURRENCY     GBP/NZD           -4       0.05\n",
       "65  USD_TRY  CURRENCY     USD/TRY           -4       0.25\n",
       "66  GBP_JPY  CURRENCY     GBP/JPY           -2       0.05\n",
       "67  CHF_HKD  CURRENCY     CHF/HKD           -4        0.1\n",
       "\n",
       "[68 rows x 5 columns]"
      ]
     },
     "execution_count": 32,
     "metadata": {},
     "output_type": "execute_result"
    }
   ],
   "source": [
    "instrument_df"
   ]
  },
  {
   "cell_type": "code",
   "execution_count": 33,
   "id": "82eed98a",
   "metadata": {},
   "outputs": [],
   "source": [
    "instrument_df.to_pickle('instruments.pkl')"
   ]
  },
  {
   "cell_type": "code",
   "execution_count": 34,
   "id": "d22eef27",
   "metadata": {},
   "outputs": [],
   "source": [
    "new_table = pd.read_pickle('instruments.pkl')"
   ]
  },
  {
   "cell_type": "code",
   "execution_count": 35,
   "id": "387f5e94",
   "metadata": {},
   "outputs": [
    {
     "data": {
      "text/html": [
       "<div>\n",
       "<style scoped>\n",
       "    .dataframe tbody tr th:only-of-type {\n",
       "        vertical-align: middle;\n",
       "    }\n",
       "\n",
       "    .dataframe tbody tr th {\n",
       "        vertical-align: top;\n",
       "    }\n",
       "\n",
       "    .dataframe thead th {\n",
       "        text-align: right;\n",
       "    }\n",
       "</style>\n",
       "<table border=\"1\" class=\"dataframe\">\n",
       "  <thead>\n",
       "    <tr style=\"text-align: right;\">\n",
       "      <th></th>\n",
       "      <th>name</th>\n",
       "      <th>type</th>\n",
       "      <th>displayName</th>\n",
       "      <th>pipLocation</th>\n",
       "      <th>marginRate</th>\n",
       "    </tr>\n",
       "  </thead>\n",
       "  <tbody>\n",
       "    <tr>\n",
       "      <th>0</th>\n",
       "      <td>USD_HKD</td>\n",
       "      <td>CURRENCY</td>\n",
       "      <td>USD/HKD</td>\n",
       "      <td>-4</td>\n",
       "      <td>0.1</td>\n",
       "    </tr>\n",
       "    <tr>\n",
       "      <th>1</th>\n",
       "      <td>USD_CNH</td>\n",
       "      <td>CURRENCY</td>\n",
       "      <td>USD/CNH</td>\n",
       "      <td>-4</td>\n",
       "      <td>0.05</td>\n",
       "    </tr>\n",
       "    <tr>\n",
       "      <th>2</th>\n",
       "      <td>SGD_CHF</td>\n",
       "      <td>CURRENCY</td>\n",
       "      <td>SGD/CHF</td>\n",
       "      <td>-4</td>\n",
       "      <td>0.05</td>\n",
       "    </tr>\n",
       "    <tr>\n",
       "      <th>3</th>\n",
       "      <td>NZD_CAD</td>\n",
       "      <td>CURRENCY</td>\n",
       "      <td>NZD/CAD</td>\n",
       "      <td>-4</td>\n",
       "      <td>0.03</td>\n",
       "    </tr>\n",
       "    <tr>\n",
       "      <th>4</th>\n",
       "      <td>NZD_JPY</td>\n",
       "      <td>CURRENCY</td>\n",
       "      <td>NZD/JPY</td>\n",
       "      <td>-2</td>\n",
       "      <td>0.05</td>\n",
       "    </tr>\n",
       "    <tr>\n",
       "      <th>...</th>\n",
       "      <td>...</td>\n",
       "      <td>...</td>\n",
       "      <td>...</td>\n",
       "      <td>...</td>\n",
       "      <td>...</td>\n",
       "    </tr>\n",
       "    <tr>\n",
       "      <th>63</th>\n",
       "      <td>USD_SGD</td>\n",
       "      <td>CURRENCY</td>\n",
       "      <td>USD/SGD</td>\n",
       "      <td>-4</td>\n",
       "      <td>0.05</td>\n",
       "    </tr>\n",
       "    <tr>\n",
       "      <th>64</th>\n",
       "      <td>GBP_NZD</td>\n",
       "      <td>CURRENCY</td>\n",
       "      <td>GBP/NZD</td>\n",
       "      <td>-4</td>\n",
       "      <td>0.05</td>\n",
       "    </tr>\n",
       "    <tr>\n",
       "      <th>65</th>\n",
       "      <td>USD_TRY</td>\n",
       "      <td>CURRENCY</td>\n",
       "      <td>USD/TRY</td>\n",
       "      <td>-4</td>\n",
       "      <td>0.25</td>\n",
       "    </tr>\n",
       "    <tr>\n",
       "      <th>66</th>\n",
       "      <td>GBP_JPY</td>\n",
       "      <td>CURRENCY</td>\n",
       "      <td>GBP/JPY</td>\n",
       "      <td>-2</td>\n",
       "      <td>0.05</td>\n",
       "    </tr>\n",
       "    <tr>\n",
       "      <th>67</th>\n",
       "      <td>CHF_HKD</td>\n",
       "      <td>CURRENCY</td>\n",
       "      <td>CHF/HKD</td>\n",
       "      <td>-4</td>\n",
       "      <td>0.1</td>\n",
       "    </tr>\n",
       "  </tbody>\n",
       "</table>\n",
       "<p>68 rows × 5 columns</p>\n",
       "</div>"
      ],
      "text/plain": [
       "       name      type displayName  pipLocation marginRate\n",
       "0   USD_HKD  CURRENCY     USD/HKD           -4        0.1\n",
       "1   USD_CNH  CURRENCY     USD/CNH           -4       0.05\n",
       "2   SGD_CHF  CURRENCY     SGD/CHF           -4       0.05\n",
       "3   NZD_CAD  CURRENCY     NZD/CAD           -4       0.03\n",
       "4   NZD_JPY  CURRENCY     NZD/JPY           -2       0.05\n",
       "..      ...       ...         ...          ...        ...\n",
       "63  USD_SGD  CURRENCY     USD/SGD           -4       0.05\n",
       "64  GBP_NZD  CURRENCY     GBP/NZD           -4       0.05\n",
       "65  USD_TRY  CURRENCY     USD/TRY           -4       0.25\n",
       "66  GBP_JPY  CURRENCY     GBP/JPY           -2       0.05\n",
       "67  CHF_HKD  CURRENCY     CHF/HKD           -4        0.1\n",
       "\n",
       "[68 rows x 5 columns]"
      ]
     },
     "execution_count": 35,
     "metadata": {},
     "output_type": "execute_result"
    }
   ],
   "source": [
    "new_table"
   ]
  },
  {
   "cell_type": "code",
   "execution_count": null,
   "id": "57ef0e26",
   "metadata": {},
   "outputs": [],
   "source": []
  }
 ],
 "metadata": {
  "kernelspec": {
   "display_name": "venv (3.13.3)",
   "language": "python",
   "name": "python3"
  },
  "language_info": {
   "codemirror_mode": {
    "name": "ipython",
    "version": 3
   },
   "file_extension": ".py",
   "mimetype": "text/x-python",
   "name": "python",
   "nbconvert_exporter": "python",
   "pygments_lexer": "ipython3",
   "version": "3.13.3"
  }
 },
 "nbformat": 4,
 "nbformat_minor": 5
}
