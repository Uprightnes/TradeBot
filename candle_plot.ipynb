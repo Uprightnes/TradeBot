{
 "cells": [
  {
   "cell_type": "code",
   "execution_count": 1,
   "id": "d52838b4",
   "metadata": {},
   "outputs": [],
   "source": [
    "import pandas as pd\n",
    "import utils\n",
    "import plotly.graph_objects as go\n",
    "import instrument"
   ]
  },
  {
   "cell_type": "code",
   "execution_count": 2,
   "id": "918d89dd",
   "metadata": {},
   "outputs": [],
   "source": [
    "pair  = \"CAD_CHF\"\n",
    "granularity = \"H1\"\n",
    "ma_list = [16, 64]\n",
    "i_pair = instrument.Instrument.get_instrument_by_name(pair)"
   ]
  },
  {
   "cell_type": "code",
   "execution_count": 3,
   "id": "a2ec632b",
   "metadata": {},
   "outputs": [],
   "source": [
    "df = pd.read_pickle(utils.get_his_data_filename(pair, granularity))"
   ]
  },
  {
   "cell_type": "code",
   "execution_count": 4,
   "id": "30d3f496",
   "metadata": {},
   "outputs": [],
   "source": [
    "non_cols = ['time', 'volume']"
   ]
  },
  {
   "cell_type": "code",
   "execution_count": 5,
   "id": "a818fba0",
   "metadata": {},
   "outputs": [],
   "source": [
    "mod_cols = [x for x in df.columns if x not in non_cols]"
   ]
  },
  {
   "cell_type": "code",
   "execution_count": 6,
   "id": "1b74a738",
   "metadata": {},
   "outputs": [],
   "source": [
    "df[mod_cols] = df[mod_cols].apply(pd.to_numeric)"
   ]
  },
  {
   "cell_type": "code",
   "execution_count": 7,
   "id": "4608a041",
   "metadata": {},
   "outputs": [],
   "source": [
    "df_ma = df[['time', 'mid_o', 'mid_h', 'mid_l', 'mid_c']].copy()"
   ]
  },
  {
   "cell_type": "code",
   "execution_count": 8,
   "id": "8684ce42",
   "metadata": {},
   "outputs": [
    {
     "data": {
      "application/vnd.microsoft.datawrangler.viewer.v0+json": {
       "columns": [
        {
         "name": "index",
         "rawType": "int64",
         "type": "integer"
        },
        {
         "name": "time",
         "rawType": "object",
         "type": "string"
        },
        {
         "name": "mid_o",
         "rawType": "float64",
         "type": "float"
        },
        {
         "name": "mid_h",
         "rawType": "float64",
         "type": "float"
        },
        {
         "name": "mid_l",
         "rawType": "float64",
         "type": "float"
        },
        {
         "name": "mid_c",
         "rawType": "float64",
         "type": "float"
        }
       ],
       "ref": "a4391aa2-5749-4dc0-8b90-6c9c812c0123",
       "rows": [
        [
         "0",
         "2024-09-03T18:00:00.000000000Z",
         "0.62789",
         "0.628",
         "0.62765",
         "0.62776"
        ],
        [
         "1",
         "2024-09-03T19:00:00.000000000Z",
         "0.62775",
         "0.62813",
         "0.62746",
         "0.62756"
        ],
        [
         "2",
         "2024-09-03T20:00:00.000000000Z",
         "0.62757",
         "0.62786",
         "0.62748",
         "0.62755"
        ],
        [
         "3",
         "2024-09-03T21:00:00.000000000Z",
         "0.62708",
         "0.62766",
         "0.62708",
         "0.62754"
        ],
        [
         "4",
         "2024-09-03T22:00:00.000000000Z",
         "0.6275",
         "0.62786",
         "0.6275",
         "0.62768"
        ]
       ],
       "shape": {
        "columns": 5,
        "rows": 5
       }
      },
      "text/html": [
       "<div>\n",
       "<style scoped>\n",
       "    .dataframe tbody tr th:only-of-type {\n",
       "        vertical-align: middle;\n",
       "    }\n",
       "\n",
       "    .dataframe tbody tr th {\n",
       "        vertical-align: top;\n",
       "    }\n",
       "\n",
       "    .dataframe thead th {\n",
       "        text-align: right;\n",
       "    }\n",
       "</style>\n",
       "<table border=\"1\" class=\"dataframe\">\n",
       "  <thead>\n",
       "    <tr style=\"text-align: right;\">\n",
       "      <th></th>\n",
       "      <th>time</th>\n",
       "      <th>mid_o</th>\n",
       "      <th>mid_h</th>\n",
       "      <th>mid_l</th>\n",
       "      <th>mid_c</th>\n",
       "    </tr>\n",
       "  </thead>\n",
       "  <tbody>\n",
       "    <tr>\n",
       "      <th>0</th>\n",
       "      <td>2024-09-03T18:00:00.000000000Z</td>\n",
       "      <td>0.62789</td>\n",
       "      <td>0.62800</td>\n",
       "      <td>0.62765</td>\n",
       "      <td>0.62776</td>\n",
       "    </tr>\n",
       "    <tr>\n",
       "      <th>1</th>\n",
       "      <td>2024-09-03T19:00:00.000000000Z</td>\n",
       "      <td>0.62775</td>\n",
       "      <td>0.62813</td>\n",
       "      <td>0.62746</td>\n",
       "      <td>0.62756</td>\n",
       "    </tr>\n",
       "    <tr>\n",
       "      <th>2</th>\n",
       "      <td>2024-09-03T20:00:00.000000000Z</td>\n",
       "      <td>0.62757</td>\n",
       "      <td>0.62786</td>\n",
       "      <td>0.62748</td>\n",
       "      <td>0.62755</td>\n",
       "    </tr>\n",
       "    <tr>\n",
       "      <th>3</th>\n",
       "      <td>2024-09-03T21:00:00.000000000Z</td>\n",
       "      <td>0.62708</td>\n",
       "      <td>0.62766</td>\n",
       "      <td>0.62708</td>\n",
       "      <td>0.62754</td>\n",
       "    </tr>\n",
       "    <tr>\n",
       "      <th>4</th>\n",
       "      <td>2024-09-03T22:00:00.000000000Z</td>\n",
       "      <td>0.62750</td>\n",
       "      <td>0.62786</td>\n",
       "      <td>0.62750</td>\n",
       "      <td>0.62768</td>\n",
       "    </tr>\n",
       "  </tbody>\n",
       "</table>\n",
       "</div>"
      ],
      "text/plain": [
       "                             time    mid_o    mid_h    mid_l    mid_c\n",
       "0  2024-09-03T18:00:00.000000000Z  0.62789  0.62800  0.62765  0.62776\n",
       "1  2024-09-03T19:00:00.000000000Z  0.62775  0.62813  0.62746  0.62756\n",
       "2  2024-09-03T20:00:00.000000000Z  0.62757  0.62786  0.62748  0.62755\n",
       "3  2024-09-03T21:00:00.000000000Z  0.62708  0.62766  0.62708  0.62754\n",
       "4  2024-09-03T22:00:00.000000000Z  0.62750  0.62786  0.62750  0.62768"
      ]
     },
     "execution_count": 8,
     "metadata": {},
     "output_type": "execute_result"
    }
   ],
   "source": [
    "df_ma.head()"
   ]
  },
  {
   "cell_type": "code",
   "execution_count": 9,
   "id": "97505a54",
   "metadata": {},
   "outputs": [],
   "source": [
    "for ma in ma_list:\n",
    "   df_ma[f'MA_{ma}'] = df_ma.mid_c.rolling(window=ma).mean()"
   ]
  },
  {
   "cell_type": "code",
   "execution_count": 10,
   "id": "7c4bd52b",
   "metadata": {},
   "outputs": [],
   "source": [
    "df_ma.dropna(inplace=True)"
   ]
  },
  {
   "cell_type": "code",
   "execution_count": 11,
   "id": "89bf683f",
   "metadata": {},
   "outputs": [],
   "source": [
    "df_ma.reset_index(drop=True, inplace=True)"
   ]
  },
  {
   "cell_type": "code",
   "execution_count": 24,
   "id": "9bac5521",
   "metadata": {},
   "outputs": [
    {
     "data": {
      "application/vnd.microsoft.datawrangler.viewer.v0+json": {
       "columns": [
        {
         "name": "index",
         "rawType": "int64",
         "type": "integer"
        },
        {
         "name": "time",
         "rawType": "object",
         "type": "string"
        },
        {
         "name": "mid_o",
         "rawType": "float64",
         "type": "float"
        },
        {
         "name": "mid_h",
         "rawType": "float64",
         "type": "float"
        },
        {
         "name": "mid_l",
         "rawType": "float64",
         "type": "float"
        },
        {
         "name": "mid_c",
         "rawType": "float64",
         "type": "float"
        },
        {
         "name": "MA_16",
         "rawType": "float64",
         "type": "float"
        },
        {
         "name": "MA_64",
         "rawType": "float64",
         "type": "float"
        },
        {
         "name": "DIFF",
         "rawType": "float64",
         "type": "float"
        },
        {
         "name": "DIFF_PREV",
         "rawType": "float64",
         "type": "float"
        },
        {
         "name": "IS_TRADE",
         "rawType": "int64",
         "type": "integer"
        }
       ],
       "ref": "f65d8a10-79ba-4aff-80f3-568f1b22b2f8",
       "rows": [
        [
         "0",
         "2024-09-06T09:00:00.000000000Z",
         "0.62284",
         "0.62406",
         "0.62274",
         "0.62398",
         "0.6246331249999999",
         "0.62627671875",
         "-0.0016435937500001163",
         null,
         "0"
        ],
        [
         "1",
         "2024-09-06T10:00:00.000000000Z",
         "0.62399",
         "0.6245",
         "0.62368",
         "0.6241",
         "0.6245375",
         "0.62621953125",
         "-0.0016820312499999934",
         "-0.0016435937500001163",
         "0"
        ],
        [
         "2",
         "2024-09-06T11:00:00.000000000Z",
         "0.6241",
         "0.625",
         "0.62397",
         "0.62482",
         "0.624508125",
         "0.62617671875",
         "-0.001668593750000058",
         "-0.0016820312499999934",
         "0"
        ],
        [
         "3",
         "2024-09-06T12:00:00.000000000Z",
         "0.62482",
         "0.62784",
         "0.62187",
         "0.62508",
         "0.6245031249999999",
         "0.6261381250000001",
         "-0.001635000000000164",
         "-0.001668593750000058",
         "0"
        ],
        [
         "4",
         "2024-09-06T13:00:00.000000000Z",
         "0.62502",
         "0.62712",
         "0.62444",
         "0.62554",
         "0.624526875",
         "0.626106875",
         "-0.0015799999999999148",
         "-0.001635000000000164",
         "0"
        ]
       ],
       "shape": {
        "columns": 10,
        "rows": 5
       }
      },
      "text/html": [
       "<div>\n",
       "<style scoped>\n",
       "    .dataframe tbody tr th:only-of-type {\n",
       "        vertical-align: middle;\n",
       "    }\n",
       "\n",
       "    .dataframe tbody tr th {\n",
       "        vertical-align: top;\n",
       "    }\n",
       "\n",
       "    .dataframe thead th {\n",
       "        text-align: right;\n",
       "    }\n",
       "</style>\n",
       "<table border=\"1\" class=\"dataframe\">\n",
       "  <thead>\n",
       "    <tr style=\"text-align: right;\">\n",
       "      <th></th>\n",
       "      <th>time</th>\n",
       "      <th>mid_o</th>\n",
       "      <th>mid_h</th>\n",
       "      <th>mid_l</th>\n",
       "      <th>mid_c</th>\n",
       "      <th>MA_16</th>\n",
       "      <th>MA_64</th>\n",
       "      <th>DIFF</th>\n",
       "      <th>DIFF_PREV</th>\n",
       "      <th>IS_TRADE</th>\n",
       "    </tr>\n",
       "  </thead>\n",
       "  <tbody>\n",
       "    <tr>\n",
       "      <th>0</th>\n",
       "      <td>2024-09-06T09:00:00.000000000Z</td>\n",
       "      <td>0.62284</td>\n",
       "      <td>0.62406</td>\n",
       "      <td>0.62274</td>\n",
       "      <td>0.62398</td>\n",
       "      <td>0.624633</td>\n",
       "      <td>0.626277</td>\n",
       "      <td>-0.001644</td>\n",
       "      <td>NaN</td>\n",
       "      <td>0</td>\n",
       "    </tr>\n",
       "    <tr>\n",
       "      <th>1</th>\n",
       "      <td>2024-09-06T10:00:00.000000000Z</td>\n",
       "      <td>0.62399</td>\n",
       "      <td>0.62450</td>\n",
       "      <td>0.62368</td>\n",
       "      <td>0.62410</td>\n",
       "      <td>0.624537</td>\n",
       "      <td>0.626220</td>\n",
       "      <td>-0.001682</td>\n",
       "      <td>-0.001644</td>\n",
       "      <td>0</td>\n",
       "    </tr>\n",
       "    <tr>\n",
       "      <th>2</th>\n",
       "      <td>2024-09-06T11:00:00.000000000Z</td>\n",
       "      <td>0.62410</td>\n",
       "      <td>0.62500</td>\n",
       "      <td>0.62397</td>\n",
       "      <td>0.62482</td>\n",
       "      <td>0.624508</td>\n",
       "      <td>0.626177</td>\n",
       "      <td>-0.001669</td>\n",
       "      <td>-0.001682</td>\n",
       "      <td>0</td>\n",
       "    </tr>\n",
       "    <tr>\n",
       "      <th>3</th>\n",
       "      <td>2024-09-06T12:00:00.000000000Z</td>\n",
       "      <td>0.62482</td>\n",
       "      <td>0.62784</td>\n",
       "      <td>0.62187</td>\n",
       "      <td>0.62508</td>\n",
       "      <td>0.624503</td>\n",
       "      <td>0.626138</td>\n",
       "      <td>-0.001635</td>\n",
       "      <td>-0.001669</td>\n",
       "      <td>0</td>\n",
       "    </tr>\n",
       "    <tr>\n",
       "      <th>4</th>\n",
       "      <td>2024-09-06T13:00:00.000000000Z</td>\n",
       "      <td>0.62502</td>\n",
       "      <td>0.62712</td>\n",
       "      <td>0.62444</td>\n",
       "      <td>0.62554</td>\n",
       "      <td>0.624527</td>\n",
       "      <td>0.626107</td>\n",
       "      <td>-0.001580</td>\n",
       "      <td>-0.001635</td>\n",
       "      <td>0</td>\n",
       "    </tr>\n",
       "  </tbody>\n",
       "</table>\n",
       "</div>"
      ],
      "text/plain": [
       "                             time    mid_o    mid_h    mid_l    mid_c  \\\n",
       "0  2024-09-06T09:00:00.000000000Z  0.62284  0.62406  0.62274  0.62398   \n",
       "1  2024-09-06T10:00:00.000000000Z  0.62399  0.62450  0.62368  0.62410   \n",
       "2  2024-09-06T11:00:00.000000000Z  0.62410  0.62500  0.62397  0.62482   \n",
       "3  2024-09-06T12:00:00.000000000Z  0.62482  0.62784  0.62187  0.62508   \n",
       "4  2024-09-06T13:00:00.000000000Z  0.62502  0.62712  0.62444  0.62554   \n",
       "\n",
       "      MA_16     MA_64      DIFF  DIFF_PREV  IS_TRADE  \n",
       "0  0.624633  0.626277 -0.001644        NaN         0  \n",
       "1  0.624537  0.626220 -0.001682  -0.001644         0  \n",
       "2  0.624508  0.626177 -0.001669  -0.001682         0  \n",
       "3  0.624503  0.626138 -0.001635  -0.001669         0  \n",
       "4  0.624527  0.626107 -0.001580  -0.001635         0  "
      ]
     },
     "execution_count": 24,
     "metadata": {},
     "output_type": "execute_result"
    }
   ],
   "source": [
    "\n",
    "df_ma.head()"
   ]
  },
  {
   "cell_type": "code",
   "execution_count": 25,
   "id": "808f656a",
   "metadata": {},
   "outputs": [],
   "source": [
    "df_ma['DIFF'] = df_ma.MA_16 - df_ma.MA_64"
   ]
  },
  {
   "cell_type": "code",
   "execution_count": 26,
   "id": "5a81f8b6",
   "metadata": {},
   "outputs": [],
   "source": [
    "df_ma['DIFF_PREV'] = df_ma.DIFF.shift(1)"
   ]
  },
  {
   "cell_type": "code",
   "execution_count": 27,
   "id": "6dff1c32",
   "metadata": {},
   "outputs": [],
   "source": [
    "def is_trade(row):\n",
    "    if row.DIFF >= 0 and row.DIFF_PREV < 0:\n",
    "        return 1\n",
    "    if row.DIFF <= 0 and row.DIFF_PREV > 0:\n",
    "        return -1\n",
    "    return 0"
   ]
  },
  {
   "cell_type": "code",
   "execution_count": 28,
   "id": "56d27f94",
   "metadata": {},
   "outputs": [],
   "source": [
    "df_ma['IS_TRADE'] = df_ma.apply(is_trade, axis=1)"
   ]
  },
  {
   "cell_type": "code",
   "execution_count": 29,
   "id": "40cf0f53",
   "metadata": {},
   "outputs": [],
   "source": [
    "df_trades = df_ma[df_ma.IS_TRADE!=0].copy()"
   ]
  },
  {
   "cell_type": "code",
   "execution_count": 32,
   "id": "eddf8ff2",
   "metadata": {},
   "outputs": [
    {
     "data": {
      "application/vnd.microsoft.datawrangler.viewer.v0+json": {
       "columns": [
        {
         "name": "index",
         "rawType": "int64",
         "type": "integer"
        },
        {
         "name": "time",
         "rawType": "object",
         "type": "string"
        },
        {
         "name": "mid_o",
         "rawType": "float64",
         "type": "float"
        },
        {
         "name": "mid_h",
         "rawType": "float64",
         "type": "float"
        },
        {
         "name": "mid_l",
         "rawType": "float64",
         "type": "float"
        },
        {
         "name": "mid_c",
         "rawType": "float64",
         "type": "float"
        },
        {
         "name": "MA_16",
         "rawType": "float64",
         "type": "float"
        },
        {
         "name": "MA_64",
         "rawType": "float64",
         "type": "float"
        },
        {
         "name": "DIFF",
         "rawType": "float64",
         "type": "float"
        },
        {
         "name": "DIFF_PREV",
         "rawType": "float64",
         "type": "float"
        },
        {
         "name": "IS_TRADE",
         "rawType": "int64",
         "type": "integer"
        },
        {
         "name": "DELTA",
         "rawType": "float64",
         "type": "float"
        },
        {
         "name": "GAIN",
         "rawType": "float64",
         "type": "float"
        }
       ],
       "ref": "d1bc053c-e2d2-4dbb-a0c9-167a1f417ecb",
       "rows": [
        [
         "31",
         "2024-09-09T16:00:00.000000000Z",
         "0.62539",
         "0.62616",
         "0.62532",
         "0.6261",
         "0.6246974999999999",
         "0.6246454687499999",
         "5.2031249999973106e-05",
         "-0.00018625000000005443",
         "1",
         "-37.30000000000011",
         "-37.30000000000011"
        ],
        [
         "57",
         "2024-09-10T18:00:00.000000000Z",
         "0.62224",
         "0.6225",
         "0.6219",
         "0.62237",
         "0.6241293750000001",
         "0.6242103125",
         "-8.093749999993349e-05",
         "0.00010390625000011866",
         "-1",
         "53.900000000000055",
         "-53.900000000000055"
        ],
        [
         "83",
         "2024-09-11T20:00:00.000000000Z",
         "0.62814",
         "0.62869",
         "0.62776",
         "0.62776",
         "0.62433125",
         "0.6242648437499999",
         "6.640625000009504e-05",
         "-0.0003628124999999205",
         "1",
         "-43.400000000000105",
         "-43.400000000000105"
        ],
        [
         "122",
         "2024-09-13T11:00:00.000000000Z",
         "0.6246",
         "0.62462",
         "0.62276",
         "0.62342",
         "0.625568125",
         "0.62562515625",
         "-5.703125000000586e-05",
         "0.00018140624999996025",
         "-1",
         "-10.799999999999699",
         "10.799999999999699"
        ],
        [
         "185",
         "2024-09-18T02:00:00.000000000Z",
         "0.62216",
         "0.62249",
         "0.622",
         "0.62234",
         "0.62257625",
         "0.622545625",
         "3.062500000006185e-05",
         "-6.046875000009777e-05",
         "1",
         "-9.000000000000119",
         "-9.000000000000119"
        ]
       ],
       "shape": {
        "columns": 12,
        "rows": 5
       }
      },
      "text/html": [
       "<div>\n",
       "<style scoped>\n",
       "    .dataframe tbody tr th:only-of-type {\n",
       "        vertical-align: middle;\n",
       "    }\n",
       "\n",
       "    .dataframe tbody tr th {\n",
       "        vertical-align: top;\n",
       "    }\n",
       "\n",
       "    .dataframe thead th {\n",
       "        text-align: right;\n",
       "    }\n",
       "</style>\n",
       "<table border=\"1\" class=\"dataframe\">\n",
       "  <thead>\n",
       "    <tr style=\"text-align: right;\">\n",
       "      <th></th>\n",
       "      <th>time</th>\n",
       "      <th>mid_o</th>\n",
       "      <th>mid_h</th>\n",
       "      <th>mid_l</th>\n",
       "      <th>mid_c</th>\n",
       "      <th>MA_16</th>\n",
       "      <th>MA_64</th>\n",
       "      <th>DIFF</th>\n",
       "      <th>DIFF_PREV</th>\n",
       "      <th>IS_TRADE</th>\n",
       "      <th>DELTA</th>\n",
       "      <th>GAIN</th>\n",
       "    </tr>\n",
       "  </thead>\n",
       "  <tbody>\n",
       "    <tr>\n",
       "      <th>31</th>\n",
       "      <td>2024-09-09T16:00:00.000000000Z</td>\n",
       "      <td>0.62539</td>\n",
       "      <td>0.62616</td>\n",
       "      <td>0.62532</td>\n",
       "      <td>0.62610</td>\n",
       "      <td>0.624697</td>\n",
       "      <td>0.624645</td>\n",
       "      <td>0.000052</td>\n",
       "      <td>-0.000186</td>\n",
       "      <td>1</td>\n",
       "      <td>-37.3</td>\n",
       "      <td>-37.3</td>\n",
       "    </tr>\n",
       "    <tr>\n",
       "      <th>57</th>\n",
       "      <td>2024-09-10T18:00:00.000000000Z</td>\n",
       "      <td>0.62224</td>\n",
       "      <td>0.62250</td>\n",
       "      <td>0.62190</td>\n",
       "      <td>0.62237</td>\n",
       "      <td>0.624129</td>\n",
       "      <td>0.624210</td>\n",
       "      <td>-0.000081</td>\n",
       "      <td>0.000104</td>\n",
       "      <td>-1</td>\n",
       "      <td>53.9</td>\n",
       "      <td>-53.9</td>\n",
       "    </tr>\n",
       "    <tr>\n",
       "      <th>83</th>\n",
       "      <td>2024-09-11T20:00:00.000000000Z</td>\n",
       "      <td>0.62814</td>\n",
       "      <td>0.62869</td>\n",
       "      <td>0.62776</td>\n",
       "      <td>0.62776</td>\n",
       "      <td>0.624331</td>\n",
       "      <td>0.624265</td>\n",
       "      <td>0.000066</td>\n",
       "      <td>-0.000363</td>\n",
       "      <td>1</td>\n",
       "      <td>-43.4</td>\n",
       "      <td>-43.4</td>\n",
       "    </tr>\n",
       "    <tr>\n",
       "      <th>122</th>\n",
       "      <td>2024-09-13T11:00:00.000000000Z</td>\n",
       "      <td>0.62460</td>\n",
       "      <td>0.62462</td>\n",
       "      <td>0.62276</td>\n",
       "      <td>0.62342</td>\n",
       "      <td>0.625568</td>\n",
       "      <td>0.625625</td>\n",
       "      <td>-0.000057</td>\n",
       "      <td>0.000181</td>\n",
       "      <td>-1</td>\n",
       "      <td>-10.8</td>\n",
       "      <td>10.8</td>\n",
       "    </tr>\n",
       "    <tr>\n",
       "      <th>185</th>\n",
       "      <td>2024-09-18T02:00:00.000000000Z</td>\n",
       "      <td>0.62216</td>\n",
       "      <td>0.62249</td>\n",
       "      <td>0.62200</td>\n",
       "      <td>0.62234</td>\n",
       "      <td>0.622576</td>\n",
       "      <td>0.622546</td>\n",
       "      <td>0.000031</td>\n",
       "      <td>-0.000060</td>\n",
       "      <td>1</td>\n",
       "      <td>-9.0</td>\n",
       "      <td>-9.0</td>\n",
       "    </tr>\n",
       "  </tbody>\n",
       "</table>\n",
       "</div>"
      ],
      "text/plain": [
       "                               time    mid_o    mid_h    mid_l    mid_c  \\\n",
       "31   2024-09-09T16:00:00.000000000Z  0.62539  0.62616  0.62532  0.62610   \n",
       "57   2024-09-10T18:00:00.000000000Z  0.62224  0.62250  0.62190  0.62237   \n",
       "83   2024-09-11T20:00:00.000000000Z  0.62814  0.62869  0.62776  0.62776   \n",
       "122  2024-09-13T11:00:00.000000000Z  0.62460  0.62462  0.62276  0.62342   \n",
       "185  2024-09-18T02:00:00.000000000Z  0.62216  0.62249  0.62200  0.62234   \n",
       "\n",
       "        MA_16     MA_64      DIFF  DIFF_PREV  IS_TRADE  DELTA  GAIN  \n",
       "31   0.624697  0.624645  0.000052  -0.000186         1  -37.3 -37.3  \n",
       "57   0.624129  0.624210 -0.000081   0.000104        -1   53.9 -53.9  \n",
       "83   0.624331  0.624265  0.000066  -0.000363         1  -43.4 -43.4  \n",
       "122  0.625568  0.625625 -0.000057   0.000181        -1  -10.8  10.8  \n",
       "185  0.622576  0.622546  0.000031  -0.000060         1   -9.0  -9.0  "
      ]
     },
     "execution_count": 32,
     "metadata": {},
     "output_type": "execute_result"
    }
   ],
   "source": [
    "df_trades.head()"
   ]
  },
  {
   "cell_type": "code",
   "execution_count": 30,
   "id": "c30bda7d",
   "metadata": {},
   "outputs": [],
   "source": [
    "df_trades['DELTA'] = (df_trades.mid_c.diff() / i_pair.pipLocation).shift(-1)\n",
    "\n",
    "\n",
    "df_trades[\"GAIN\"] = df_trades[\"DELTA\"] * df_trades[\"IS_TRADE\"]"
   ]
  },
  {
   "cell_type": "code",
   "execution_count": 31,
   "id": "6643557c",
   "metadata": {},
   "outputs": [
    {
     "data": {
      "text/plain": [
       "np.float64(-813.3999999999996)"
      ]
     },
     "execution_count": 31,
     "metadata": {},
     "output_type": "execute_result"
    }
   ],
   "source": [
    "df_trades[\"GAIN\"].sum()"
   ]
  },
  {
   "cell_type": "code",
   "execution_count": null,
   "id": "6cf96b0a",
   "metadata": {},
   "outputs": [],
   "source": []
  },
  {
   "cell_type": "code",
   "execution_count": 21,
   "id": "c6386fce",
   "metadata": {},
   "outputs": [],
   "source": [
    "df_plot = df_ma.iloc[0:24].copy()"
   ]
  },
  {
   "cell_type": "code",
   "execution_count": 22,
   "id": "ddacbe8b",
   "metadata": {},
   "outputs": [
    {
     "data": {
      "text/plain": [
       "(24, 10)"
      ]
     },
     "execution_count": 22,
     "metadata": {},
     "output_type": "execute_result"
    }
   ],
   "source": [
    "df_plot.shape"
   ]
  },
  {
   "cell_type": "code",
   "execution_count": 23,
   "id": "a723c3f2",
   "metadata": {},
   "outputs": [
    {
     "data": {
      "application/vnd.plotly.v1+json": {
       "config": {
        "plotlyServerURL": "https://plot.ly"
       },
       "data": [
        {
         "close": {
          "bdata": "ZHWr56T34z8N4C2QoPjjPwNgPIOG/uM/G0esxacA5D/430p2bATkPwspP6n26eM/F9nO91Pj4z8vwD46deXjPy1gArfu5uM/UfcBSG3i4z+/Q1GgT+TjP1WH3Aw34OM/cM6I0t7g4z9KB+v/HObjP7XDX5M16uM/z9ptF5rr4z9n1edqK/bjP9wRTgte9OM/MEeP39v04z+62or9ZffjP2k1JO6x9OM/hXzQs1n14z9kdavnpPfjP3B87ZklAeQ/",
          "dtype": "f8"
         },
         "decreasing": {
          "fillcolor": "#CC2E3C",
          "line": {
           "color": "#FF3A4C"
          }
         },
         "high": {
          "bdata": "f7xXrUz44z+WQ4ts5/vjPwAAAAAAAOQ/SNxj6UMX5D9TXFX2XRHkP7/xtWeWBOQ//3ivWpnw4z/v4ZLjTunjP2K+vAD76OM/fjUHCObo4z9kHvmDgefjPy/APjp15eM/wqONI9bi4z9j7lpCPujjPyVATS1b6+M/PSe9b3zt4z/VITfDDfjjP9iBc0aU9uM/EEBqEyf34z/Twfo/h/njP/PIHww89+M/f7xXrUz44z9cVfZdEfzjPxe30QDeAuQ/",
          "dtype": "f8"
         },
         "increasing": {
          "fillcolor": "#24A06B",
          "line": {
           "color": "#2EC886"
          }
         },
         "line": {
          "width": 1
         },
         "low": {
          "bdata": "PSe9b3zt4z++amXCL/XjP4Hs9e6P9+M/9aEL6lvm4z9BDkqYafvjP01nJ4Oj5OM/eR7cnbXb4z8aaam8HeHjP1WH3Aw34OM/p1zhXS7i4z9ubkxPWOLjPz8AqU2c3OM/dY4B2evd4z+r7Lsi+N/jP6KcaFch5eM/m6xRD9Ho4z8lQE0tW+vjP1FOtKuQ8uM/Tx4Wak3z4z8VAOMZNPTjP95xio7k8uM/UU60q5Dy4z+h8xq7RPXjP706x4Ds9eM/",
          "dtype": "f8"
         },
         "opacity": 1,
         "open": {
          "bdata": "H4DUJk7u4z9I/mDguffjPw3gLZCg+OM/A2A8g4b+4z/HEWvxKQDkPzHO34RCBOQ/7rH0oQvq4z+JtfgUAOPjP/bRqSuf5eM/83FtqBjn4z9ubkxPWOLjP01nJ4Oj5OM/dY4B2evd4z/6YYTwaOPjPy6QoPgx5uM/0jqqmiDq4z95dY4B2evjPy7nUlxV9uM/oyO5/If04z8U0ETY8PTjP/PIHww89+M/hqxu9Zz04z+h8xq7RPXjP4Hs9e6P9+M/",
          "dtype": "f8"
         },
         "type": "candlestick",
         "x": [
          "2024-09-06T09:00:00.000000000Z",
          "2024-09-06T10:00:00.000000000Z",
          "2024-09-06T11:00:00.000000000Z",
          "2024-09-06T12:00:00.000000000Z",
          "2024-09-06T13:00:00.000000000Z",
          "2024-09-06T14:00:00.000000000Z",
          "2024-09-06T15:00:00.000000000Z",
          "2024-09-06T16:00:00.000000000Z",
          "2024-09-06T17:00:00.000000000Z",
          "2024-09-06T18:00:00.000000000Z",
          "2024-09-06T19:00:00.000000000Z",
          "2024-09-06T20:00:00.000000000Z",
          "2024-09-08T21:00:00.000000000Z",
          "2024-09-08T22:00:00.000000000Z",
          "2024-09-08T23:00:00.000000000Z",
          "2024-09-09T00:00:00.000000000Z",
          "2024-09-09T01:00:00.000000000Z",
          "2024-09-09T02:00:00.000000000Z",
          "2024-09-09T03:00:00.000000000Z",
          "2024-09-09T04:00:00.000000000Z",
          "2024-09-09T05:00:00.000000000Z",
          "2024-09-09T06:00:00.000000000Z",
          "2024-09-09T07:00:00.000000000Z",
          "2024-09-09T08:00:00.000000000Z"
         ]
        },
        {
         "line": {
          "shape": "spline",
          "width": 2
         },
         "name": "MA_16",
         "type": "scatter",
         "x": [
          "2024-09-06T09:00:00.000000000Z",
          "2024-09-06T10:00:00.000000000Z",
          "2024-09-06T11:00:00.000000000Z",
          "2024-09-06T12:00:00.000000000Z",
          "2024-09-06T13:00:00.000000000Z",
          "2024-09-06T14:00:00.000000000Z",
          "2024-09-06T15:00:00.000000000Z",
          "2024-09-06T16:00:00.000000000Z",
          "2024-09-06T17:00:00.000000000Z",
          "2024-09-06T18:00:00.000000000Z",
          "2024-09-06T19:00:00.000000000Z",
          "2024-09-06T20:00:00.000000000Z",
          "2024-09-08T21:00:00.000000000Z",
          "2024-09-08T22:00:00.000000000Z",
          "2024-09-08T23:00:00.000000000Z",
          "2024-09-09T00:00:00.000000000Z",
          "2024-09-09T01:00:00.000000000Z",
          "2024-09-09T02:00:00.000000000Z",
          "2024-09-09T03:00:00.000000000Z",
          "2024-09-09T04:00:00.000000000Z",
          "2024-09-09T05:00:00.000000000Z",
          "2024-09-09T06:00:00.000000000Z",
          "2024-09-09T07:00:00.000000000Z",
          "2024-09-09T08:00:00.000000000Z"
         ],
         "y": {
          "bdata": "6PF7m/784z/qBDQRNvzjP87Cnnb4++M/XP5D+u374z95I/PIH/zjP9B5jV2i+uM/DTfg88P44z9Jv30dOPfjPxK9jGK59eM/FlJ+Uu3z4z/fT42XbvLjP1SM8zeh8OM/kIgpkUTv4z9YUYNpGO7jPz6WPnRB7eM/W9O84xTt4z9bmfBL/ezjP3icoiO57OM/68pneR7s4z8ktOVciuvjP3tJY7SO6uM/s14M5UTr4z94KAr0iezjPzwUBfpE7uM/",
          "dtype": "f8"
         }
        },
        {
         "line": {
          "shape": "spline",
          "width": 2
         },
         "name": "MA_64",
         "type": "scatter",
         "x": [
          "2024-09-06T09:00:00.000000000Z",
          "2024-09-06T10:00:00.000000000Z",
          "2024-09-06T11:00:00.000000000Z",
          "2024-09-06T12:00:00.000000000Z",
          "2024-09-06T13:00:00.000000000Z",
          "2024-09-06T14:00:00.000000000Z",
          "2024-09-06T15:00:00.000000000Z",
          "2024-09-06T16:00:00.000000000Z",
          "2024-09-06T17:00:00.000000000Z",
          "2024-09-06T18:00:00.000000000Z",
          "2024-09-06T19:00:00.000000000Z",
          "2024-09-06T20:00:00.000000000Z",
          "2024-09-08T21:00:00.000000000Z",
          "2024-09-08T22:00:00.000000000Z",
          "2024-09-08T23:00:00.000000000Z",
          "2024-09-09T00:00:00.000000000Z",
          "2024-09-09T01:00:00.000000000Z",
          "2024-09-09T02:00:00.000000000Z",
          "2024-09-09T03:00:00.000000000Z",
          "2024-09-09T04:00:00.000000000Z",
          "2024-09-09T05:00:00.000000000Z",
          "2024-09-09T06:00:00.000000000Z",
          "2024-09-09T07:00:00.000000000Z",
          "2024-09-09T08:00:00.000000000Z"
         ],
         "y": {
          "bdata": "yuAoeXUK5D/1udqK/QnkP+iHEcKjCeQ/m+s00lIJ5D/Tn/1IEQnkP0BvKlJhCOQ/pN++DpwH5D/CNAwfEQfkP9EF9S1zBuQ/L26jAbwF5D9wQiECDgXkP+MZNPRPBOQ/umsJ+aAD5D/l7QinBQPkP1iQZiyaAuQ/p1zhXS4C5D/LSpNS0AHkP2Gm7V9ZAeQ/OIlBYOUA5D/V7IFWYADkP0fhehSu/+M/nrXbLjT/4z+RSUbOwv7jP/wApDZx/uM/",
          "dtype": "f8"
         }
        }
       ],
       "layout": {
        "font": {
         "color": "#e1e1e1",
         "size": 10
        },
        "height": 400,
        "margin": {
         "b": 10,
         "l": 10,
         "r": 10,
         "t": 10
        },
        "paper_bgcolor": "#1e1e1e",
        "plot_bgcolor": "#1e1e1e",
        "template": {
         "data": {
          "bar": [
           {
            "error_x": {
             "color": "#2a3f5f"
            },
            "error_y": {
             "color": "#2a3f5f"
            },
            "marker": {
             "line": {
              "color": "#E5ECF6",
              "width": 0.5
             },
             "pattern": {
              "fillmode": "overlay",
              "size": 10,
              "solidity": 0.2
             }
            },
            "type": "bar"
           }
          ],
          "barpolar": [
           {
            "marker": {
             "line": {
              "color": "#E5ECF6",
              "width": 0.5
             },
             "pattern": {
              "fillmode": "overlay",
              "size": 10,
              "solidity": 0.2
             }
            },
            "type": "barpolar"
           }
          ],
          "carpet": [
           {
            "aaxis": {
             "endlinecolor": "#2a3f5f",
             "gridcolor": "white",
             "linecolor": "white",
             "minorgridcolor": "white",
             "startlinecolor": "#2a3f5f"
            },
            "baxis": {
             "endlinecolor": "#2a3f5f",
             "gridcolor": "white",
             "linecolor": "white",
             "minorgridcolor": "white",
             "startlinecolor": "#2a3f5f"
            },
            "type": "carpet"
           }
          ],
          "choropleth": [
           {
            "colorbar": {
             "outlinewidth": 0,
             "ticks": ""
            },
            "type": "choropleth"
           }
          ],
          "contour": [
           {
            "colorbar": {
             "outlinewidth": 0,
             "ticks": ""
            },
            "colorscale": [
             [
              0,
              "#0d0887"
             ],
             [
              0.1111111111111111,
              "#46039f"
             ],
             [
              0.2222222222222222,
              "#7201a8"
             ],
             [
              0.3333333333333333,
              "#9c179e"
             ],
             [
              0.4444444444444444,
              "#bd3786"
             ],
             [
              0.5555555555555556,
              "#d8576b"
             ],
             [
              0.6666666666666666,
              "#ed7953"
             ],
             [
              0.7777777777777778,
              "#fb9f3a"
             ],
             [
              0.8888888888888888,
              "#fdca26"
             ],
             [
              1,
              "#f0f921"
             ]
            ],
            "type": "contour"
           }
          ],
          "contourcarpet": [
           {
            "colorbar": {
             "outlinewidth": 0,
             "ticks": ""
            },
            "type": "contourcarpet"
           }
          ],
          "heatmap": [
           {
            "colorbar": {
             "outlinewidth": 0,
             "ticks": ""
            },
            "colorscale": [
             [
              0,
              "#0d0887"
             ],
             [
              0.1111111111111111,
              "#46039f"
             ],
             [
              0.2222222222222222,
              "#7201a8"
             ],
             [
              0.3333333333333333,
              "#9c179e"
             ],
             [
              0.4444444444444444,
              "#bd3786"
             ],
             [
              0.5555555555555556,
              "#d8576b"
             ],
             [
              0.6666666666666666,
              "#ed7953"
             ],
             [
              0.7777777777777778,
              "#fb9f3a"
             ],
             [
              0.8888888888888888,
              "#fdca26"
             ],
             [
              1,
              "#f0f921"
             ]
            ],
            "type": "heatmap"
           }
          ],
          "histogram": [
           {
            "marker": {
             "pattern": {
              "fillmode": "overlay",
              "size": 10,
              "solidity": 0.2
             }
            },
            "type": "histogram"
           }
          ],
          "histogram2d": [
           {
            "colorbar": {
             "outlinewidth": 0,
             "ticks": ""
            },
            "colorscale": [
             [
              0,
              "#0d0887"
             ],
             [
              0.1111111111111111,
              "#46039f"
             ],
             [
              0.2222222222222222,
              "#7201a8"
             ],
             [
              0.3333333333333333,
              "#9c179e"
             ],
             [
              0.4444444444444444,
              "#bd3786"
             ],
             [
              0.5555555555555556,
              "#d8576b"
             ],
             [
              0.6666666666666666,
              "#ed7953"
             ],
             [
              0.7777777777777778,
              "#fb9f3a"
             ],
             [
              0.8888888888888888,
              "#fdca26"
             ],
             [
              1,
              "#f0f921"
             ]
            ],
            "type": "histogram2d"
           }
          ],
          "histogram2dcontour": [
           {
            "colorbar": {
             "outlinewidth": 0,
             "ticks": ""
            },
            "colorscale": [
             [
              0,
              "#0d0887"
             ],
             [
              0.1111111111111111,
              "#46039f"
             ],
             [
              0.2222222222222222,
              "#7201a8"
             ],
             [
              0.3333333333333333,
              "#9c179e"
             ],
             [
              0.4444444444444444,
              "#bd3786"
             ],
             [
              0.5555555555555556,
              "#d8576b"
             ],
             [
              0.6666666666666666,
              "#ed7953"
             ],
             [
              0.7777777777777778,
              "#fb9f3a"
             ],
             [
              0.8888888888888888,
              "#fdca26"
             ],
             [
              1,
              "#f0f921"
             ]
            ],
            "type": "histogram2dcontour"
           }
          ],
          "mesh3d": [
           {
            "colorbar": {
             "outlinewidth": 0,
             "ticks": ""
            },
            "type": "mesh3d"
           }
          ],
          "parcoords": [
           {
            "line": {
             "colorbar": {
              "outlinewidth": 0,
              "ticks": ""
             }
            },
            "type": "parcoords"
           }
          ],
          "pie": [
           {
            "automargin": true,
            "type": "pie"
           }
          ],
          "scatter": [
           {
            "fillpattern": {
             "fillmode": "overlay",
             "size": 10,
             "solidity": 0.2
            },
            "type": "scatter"
           }
          ],
          "scatter3d": [
           {
            "line": {
             "colorbar": {
              "outlinewidth": 0,
              "ticks": ""
             }
            },
            "marker": {
             "colorbar": {
              "outlinewidth": 0,
              "ticks": ""
             }
            },
            "type": "scatter3d"
           }
          ],
          "scattercarpet": [
           {
            "marker": {
             "colorbar": {
              "outlinewidth": 0,
              "ticks": ""
             }
            },
            "type": "scattercarpet"
           }
          ],
          "scattergeo": [
           {
            "marker": {
             "colorbar": {
              "outlinewidth": 0,
              "ticks": ""
             }
            },
            "type": "scattergeo"
           }
          ],
          "scattergl": [
           {
            "marker": {
             "colorbar": {
              "outlinewidth": 0,
              "ticks": ""
             }
            },
            "type": "scattergl"
           }
          ],
          "scattermap": [
           {
            "marker": {
             "colorbar": {
              "outlinewidth": 0,
              "ticks": ""
             }
            },
            "type": "scattermap"
           }
          ],
          "scattermapbox": [
           {
            "marker": {
             "colorbar": {
              "outlinewidth": 0,
              "ticks": ""
             }
            },
            "type": "scattermapbox"
           }
          ],
          "scatterpolar": [
           {
            "marker": {
             "colorbar": {
              "outlinewidth": 0,
              "ticks": ""
             }
            },
            "type": "scatterpolar"
           }
          ],
          "scatterpolargl": [
           {
            "marker": {
             "colorbar": {
              "outlinewidth": 0,
              "ticks": ""
             }
            },
            "type": "scatterpolargl"
           }
          ],
          "scatterternary": [
           {
            "marker": {
             "colorbar": {
              "outlinewidth": 0,
              "ticks": ""
             }
            },
            "type": "scatterternary"
           }
          ],
          "surface": [
           {
            "colorbar": {
             "outlinewidth": 0,
             "ticks": ""
            },
            "colorscale": [
             [
              0,
              "#0d0887"
             ],
             [
              0.1111111111111111,
              "#46039f"
             ],
             [
              0.2222222222222222,
              "#7201a8"
             ],
             [
              0.3333333333333333,
              "#9c179e"
             ],
             [
              0.4444444444444444,
              "#bd3786"
             ],
             [
              0.5555555555555556,
              "#d8576b"
             ],
             [
              0.6666666666666666,
              "#ed7953"
             ],
             [
              0.7777777777777778,
              "#fb9f3a"
             ],
             [
              0.8888888888888888,
              "#fdca26"
             ],
             [
              1,
              "#f0f921"
             ]
            ],
            "type": "surface"
           }
          ],
          "table": [
           {
            "cells": {
             "fill": {
              "color": "#EBF0F8"
             },
             "line": {
              "color": "white"
             }
            },
            "header": {
             "fill": {
              "color": "#C8D4E3"
             },
             "line": {
              "color": "white"
             }
            },
            "type": "table"
           }
          ]
         },
         "layout": {
          "annotationdefaults": {
           "arrowcolor": "#2a3f5f",
           "arrowhead": 0,
           "arrowwidth": 1
          },
          "autotypenumbers": "strict",
          "coloraxis": {
           "colorbar": {
            "outlinewidth": 0,
            "ticks": ""
           }
          },
          "colorscale": {
           "diverging": [
            [
             0,
             "#8e0152"
            ],
            [
             0.1,
             "#c51b7d"
            ],
            [
             0.2,
             "#de77ae"
            ],
            [
             0.3,
             "#f1b6da"
            ],
            [
             0.4,
             "#fde0ef"
            ],
            [
             0.5,
             "#f7f7f7"
            ],
            [
             0.6,
             "#e6f5d0"
            ],
            [
             0.7,
             "#b8e186"
            ],
            [
             0.8,
             "#7fbc41"
            ],
            [
             0.9,
             "#4d9221"
            ],
            [
             1,
             "#276419"
            ]
           ],
           "sequential": [
            [
             0,
             "#0d0887"
            ],
            [
             0.1111111111111111,
             "#46039f"
            ],
            [
             0.2222222222222222,
             "#7201a8"
            ],
            [
             0.3333333333333333,
             "#9c179e"
            ],
            [
             0.4444444444444444,
             "#bd3786"
            ],
            [
             0.5555555555555556,
             "#d8576b"
            ],
            [
             0.6666666666666666,
             "#ed7953"
            ],
            [
             0.7777777777777778,
             "#fb9f3a"
            ],
            [
             0.8888888888888888,
             "#fdca26"
            ],
            [
             1,
             "#f0f921"
            ]
           ],
           "sequentialminus": [
            [
             0,
             "#0d0887"
            ],
            [
             0.1111111111111111,
             "#46039f"
            ],
            [
             0.2222222222222222,
             "#7201a8"
            ],
            [
             0.3333333333333333,
             "#9c179e"
            ],
            [
             0.4444444444444444,
             "#bd3786"
            ],
            [
             0.5555555555555556,
             "#d8576b"
            ],
            [
             0.6666666666666666,
             "#ed7953"
            ],
            [
             0.7777777777777778,
             "#fb9f3a"
            ],
            [
             0.8888888888888888,
             "#fdca26"
            ],
            [
             1,
             "#f0f921"
            ]
           ]
          },
          "colorway": [
           "#636efa",
           "#EF553B",
           "#00cc96",
           "#ab63fa",
           "#FFA15A",
           "#19d3f3",
           "#FF6692",
           "#B6E880",
           "#FF97FF",
           "#FECB52"
          ],
          "font": {
           "color": "#2a3f5f"
          },
          "geo": {
           "bgcolor": "white",
           "lakecolor": "white",
           "landcolor": "#E5ECF6",
           "showlakes": true,
           "showland": true,
           "subunitcolor": "white"
          },
          "hoverlabel": {
           "align": "left"
          },
          "hovermode": "closest",
          "mapbox": {
           "style": "light"
          },
          "paper_bgcolor": "white",
          "plot_bgcolor": "#E5ECF6",
          "polar": {
           "angularaxis": {
            "gridcolor": "white",
            "linecolor": "white",
            "ticks": ""
           },
           "bgcolor": "#E5ECF6",
           "radialaxis": {
            "gridcolor": "white",
            "linecolor": "white",
            "ticks": ""
           }
          },
          "scene": {
           "xaxis": {
            "backgroundcolor": "#E5ECF6",
            "gridcolor": "white",
            "gridwidth": 2,
            "linecolor": "white",
            "showbackground": true,
            "ticks": "",
            "zerolinecolor": "white"
           },
           "yaxis": {
            "backgroundcolor": "#E5ECF6",
            "gridcolor": "white",
            "gridwidth": 2,
            "linecolor": "white",
            "showbackground": true,
            "ticks": "",
            "zerolinecolor": "white"
           },
           "zaxis": {
            "backgroundcolor": "#E5ECF6",
            "gridcolor": "white",
            "gridwidth": 2,
            "linecolor": "white",
            "showbackground": true,
            "ticks": "",
            "zerolinecolor": "white"
           }
          },
          "shapedefaults": {
           "line": {
            "color": "#2a3f5f"
           }
          },
          "ternary": {
           "aaxis": {
            "gridcolor": "white",
            "linecolor": "white",
            "ticks": ""
           },
           "baxis": {
            "gridcolor": "white",
            "linecolor": "white",
            "ticks": ""
           },
           "bgcolor": "#E5ECF6",
           "caxis": {
            "gridcolor": "white",
            "linecolor": "white",
            "ticks": ""
           }
          },
          "title": {
           "x": 0.05
          },
          "xaxis": {
           "automargin": true,
           "gridcolor": "white",
           "linecolor": "white",
           "ticks": "",
           "title": {
            "standoff": 15
           },
           "zerolinecolor": "white",
           "zerolinewidth": 2
          },
          "yaxis": {
           "automargin": true,
           "gridcolor": "white",
           "linecolor": "white",
           "ticks": "",
           "title": {
            "standoff": 15
           },
           "zerolinecolor": "white",
           "zerolinewidth": 2
          }
         }
        },
        "width": 1000,
        "xaxis": {
         "fixedrange": true,
         "gridcolor": "#1f292f",
         "rangeslider": {
          "visible": false
         },
         "showgrid": true
        },
        "yaxis": {
         "gridcolor": "#1f292f",
         "showgrid": true
        }
       }
      }
     },
     "metadata": {},
     "output_type": "display_data"
    }
   ],
   "source": [
    "fig = go.Figure()\n",
    "fig.add_trace(go.Candlestick(\n",
    "    x=df_plot.time, open=df_plot.mid_o, high=df_plot.mid_h, low=df_plot.mid_l, close=df_plot.mid_c,\n",
    "    line=dict(width=1), opacity=1,\n",
    "    increasing_fillcolor=\"#24A06B\", \n",
    "    decreasing_fillcolor=\"#CC2E3C\", \n",
    "    increasing_line_color = \"#2EC886\", \n",
    "    decreasing_line_color = \"#FF3A4C\"\n",
    "\n",
    "))\n",
    "for ma in ma_list:\n",
    "    col = f\"MA_{ma}\"\n",
    "    fig.add_trace(go.Scatter(x=df_plot.time, \n",
    "        y=df_plot[col], \n",
    "        line=dict(width=2), \n",
    "        line_shape='spline', \n",
    "        name=col))\n",
    "fig.update_layout(width=1000, height=400, \n",
    "    margin=dict(l=10, r=10, t=10, b=10),\n",
    "    font=dict(size=10, color=\"#e1e1e1\"),\n",
    "    paper_bgcolor=\"#1e1e1e\", plot_bgcolor=\"#1e1e1e\")\n",
    "fig.update_xaxes(gridcolor=\"#1f292f\", fixedrange=True, showgrid=True, rangeslider=dict(visible=False))\n",
    "fig.update_yaxes(gridcolor=\"#1f292f\", showgrid=True)\n",
    "\n",
    "\n",
    "fig.show()"
   ]
  },
  {
   "cell_type": "code",
   "execution_count": null,
   "id": "ecd8f7b1",
   "metadata": {},
   "outputs": [],
   "source": []
  },
  {
   "cell_type": "code",
   "execution_count": null,
   "id": "ca35daaf",
   "metadata": {},
   "outputs": [],
   "source": []
  },
  {
   "cell_type": "code",
   "execution_count": null,
   "id": "81a9145d",
   "metadata": {},
   "outputs": [],
   "source": []
  },
  {
   "cell_type": "code",
   "execution_count": null,
   "id": "5e8afc57",
   "metadata": {},
   "outputs": [],
   "source": []
  },
  {
   "cell_type": "code",
   "execution_count": null,
   "id": "a4c7749f",
   "metadata": {},
   "outputs": [],
   "source": []
  },
  {
   "cell_type": "code",
   "execution_count": null,
   "id": "af6b1a68",
   "metadata": {},
   "outputs": [],
   "source": []
  }
 ],
 "metadata": {
  "kernelspec": {
   "display_name": "venv (3.13.3)",
   "language": "python",
   "name": "python3"
  },
  "language_info": {
   "codemirror_mode": {
    "name": "ipython",
    "version": 3
   },
   "file_extension": ".py",
   "mimetype": "text/x-python",
   "name": "python",
   "nbconvert_exporter": "python",
   "pygments_lexer": "ipython3",
   "version": "3.13.3"
  }
 },
 "nbformat": 4,
 "nbformat_minor": 5
}
