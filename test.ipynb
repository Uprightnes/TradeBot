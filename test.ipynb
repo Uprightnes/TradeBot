{
 "cells": [
  {
   "cell_type": "code",
   "execution_count": null,
   "id": "feaf682c",
   "metadata": {},
   "outputs": [],
   "source": [
    "import requests\n",
    "import defs\n",
    "import pandas as pd\n"
   ]
  },
  {
   "cell_type": "code",
   "execution_count": 5,
   "id": "74c32e54",
   "metadata": {},
   "outputs": [],
   "source": [
    "session = requests.Session()"
   ]
  },
  {
   "cell_type": "code",
   "execution_count": 6,
   "id": "1bca79f3",
   "metadata": {},
   "outputs": [],
   "source": [
    "instrument = \"EUR_USD\"\n",
    "count = 10\n",
    "granularity = \"H1\""
   ]
  },
  {
   "cell_type": "code",
   "execution_count": 12,
   "id": "762c3a5a",
   "metadata": {},
   "outputs": [],
   "source": [
    "url = f\"{defs.OANDO_URL}instruments/{instrument}/candles\""
   ]
  },
  {
   "cell_type": "code",
   "execution_count": 14,
   "id": "ddc72ea6",
   "metadata": {},
   "outputs": [
    {
     "data": {
      "text/plain": [
       "'https://api-fxpractice.oanda.com/v3/instruments/EUR_USD/candles'"
      ]
     },
     "execution_count": 14,
     "metadata": {},
     "output_type": "execute_result"
    }
   ],
   "source": [
    "url"
   ]
  },
  {
   "cell_type": "code",
   "execution_count": 15,
   "id": "a57fef4e",
   "metadata": {},
   "outputs": [],
   "source": [
    "params = dict(\n",
    "    count = count,\n",
    "    granularity = granularity,\n",
    "    price = \"MBA\"\n",
    ")"
   ]
  },
  {
   "cell_type": "code",
   "execution_count": 16,
   "id": "df0f8e61",
   "metadata": {},
   "outputs": [
    {
     "data": {
      "text/plain": [
       "{'count': 10, 'granularity': 'H1', 'price': 'MBA'}"
      ]
     },
     "execution_count": 16,
     "metadata": {},
     "output_type": "execute_result"
    }
   ],
   "source": [
    "params"
   ]
  },
  {
   "cell_type": "code",
   "execution_count": 17,
   "id": "c9aa97c4",
   "metadata": {},
   "outputs": [],
   "source": [
    "response = session.get(url, params=params, headers=defs.SECURE_HEADER)"
   ]
  },
  {
   "cell_type": "code",
   "execution_count": 18,
   "id": "4aa267ce",
   "metadata": {},
   "outputs": [
    {
     "data": {
      "text/plain": [
       "200"
      ]
     },
     "execution_count": 18,
     "metadata": {},
     "output_type": "execute_result"
    }
   ],
   "source": [
    "response.status_code"
   ]
  },
  {
   "cell_type": "code",
   "execution_count": 20,
   "id": "7f584c36",
   "metadata": {},
   "outputs": [],
   "source": [
    "data  = response.json()"
   ]
  },
  {
   "cell_type": "code",
   "execution_count": 22,
   "id": "d89b7ad3",
   "metadata": {},
   "outputs": [
    {
     "data": {
      "text/plain": [
       "dict_keys(['instrument', 'granularity', 'candles'])"
      ]
     },
     "execution_count": 22,
     "metadata": {},
     "output_type": "execute_result"
    }
   ],
   "source": [
    "data.keys()"
   ]
  },
  {
   "cell_type": "code",
   "execution_count": 23,
   "id": "3980ed71",
   "metadata": {},
   "outputs": [
    {
     "data": {
      "text/plain": [
       "10"
      ]
     },
     "execution_count": 23,
     "metadata": {},
     "output_type": "execute_result"
    }
   ],
   "source": [
    "len(data[\"candles\"])"
   ]
  },
  {
   "cell_type": "code",
   "execution_count": 26,
   "id": "713e5fd0",
   "metadata": {},
   "outputs": [],
   "source": [
    "prices = ['min', 'bid', 'ask']\n",
    "ohlc = ['o', 'h', 'l', 'c']\n"
   ]
  },
  {
   "cell_type": "code",
   "execution_count": 28,
   "id": "27e7aca0",
   "metadata": {},
   "outputs": [
    {
     "name": "stdout",
     "output_type": "stream",
     "text": [
      "min_o\n",
      "min_h\n",
      "min_l\n",
      "min_c\n",
      "bid_o\n",
      "bid_h\n",
      "bid_l\n",
      "bid_c\n",
      "ask_o\n",
      "ask_h\n",
      "ask_l\n",
      "ask_c\n"
     ]
    }
   ],
   "source": [
    "for price in prices:\n",
    "    for oh in ohlc:\n",
    "        print(f\"{price}_{oh}\")"
   ]
  },
  {
   "cell_type": "code",
   "execution_count": 37,
   "id": "4f8499dc",
   "metadata": {},
   "outputs": [
    {
     "data": {
      "text/plain": [
       "'1.15228'"
      ]
     },
     "execution_count": 37,
     "metadata": {},
     "output_type": "execute_result"
    }
   ],
   "source": [
    "data[\"candles\"][0]['bid']['o']"
   ]
  },
  {
   "cell_type": "code",
   "execution_count": 46,
   "id": "fbaeffac",
   "metadata": {},
   "outputs": [
    {
     "name": "stdout",
     "output_type": "stream",
     "text": [
      "['bid', 'mid', 'ask']\n",
      "{'complete': True, 'volume': 5013, 'time': '2025-04-21T23:00:00.000000000Z', 'bid': {'o': '1.15228', 'h': '1.15232', 'l': '1.15071', 'c': '1.15133'}, 'mid': {'o': '1.15236', 'h': '1.15241', 'l': '1.15078', 'c': '1.15142'}, 'ask': {'o': '1.15245', 'h': '1.15250', 'l': '1.15085', 'c': '1.15152'}}\n",
      "{'complete': True, 'volume': 11833, 'time': '2025-04-22T00:00:00.000000000Z', 'bid': {'o': '1.15134', 'h': '1.15137', 'l': '1.14812', 'c': '1.14897'}, 'mid': {'o': '1.15143', 'h': '1.15144', 'l': '1.14820', 'c': '1.14904'}, 'ask': {'o': '1.15152', 'h': '1.15154', 'l': '1.14828', 'c': '1.14912'}}\n",
      "{'complete': True, 'volume': 10590, 'time': '2025-04-22T01:00:00.000000000Z', 'bid': {'o': '1.14897', 'h': '1.14978', 'l': '1.14849', 'c': '1.14939'}, 'mid': {'o': '1.14905', 'h': '1.14986', 'l': '1.14858', 'c': '1.14947'}, 'ask': {'o': '1.14913', 'h': '1.14994', 'l': '1.14866', 'c': '1.14955'}}\n",
      "{'complete': True, 'volume': 6829, 'time': '2025-04-22T02:00:00.000000000Z', 'bid': {'o': '1.14942', 'h': '1.15199', 'l': '1.14931', 'c': '1.15198'}, 'mid': {'o': '1.14950', 'h': '1.15208', 'l': '1.14939', 'c': '1.15206'}, 'ask': {'o': '1.14957', 'h': '1.15216', 'l': '1.14947', 'c': '1.15215'}}\n",
      "{'complete': True, 'volume': 10267, 'time': '2025-04-22T03:00:00.000000000Z', 'bid': {'o': '1.15197', 'h': '1.15401', 'l': '1.15182', 'c': '1.15339'}, 'mid': {'o': '1.15206', 'h': '1.15409', 'l': '1.15190', 'c': '1.15348'}, 'ask': {'o': '1.15215', 'h': '1.15417', 'l': '1.15198', 'c': '1.15357'}}\n",
      "{'complete': True, 'volume': 5827, 'time': '2025-04-22T04:00:00.000000000Z', 'bid': {'o': '1.15340', 'h': '1.15395', 'l': '1.15265', 'c': '1.15294'}, 'mid': {'o': '1.15348', 'h': '1.15403', 'l': '1.15273', 'c': '1.15302'}, 'ask': {'o': '1.15357', 'h': '1.15411', 'l': '1.15281', 'c': '1.15311'}}\n",
      "{'complete': True, 'volume': 12376, 'time': '2025-04-22T05:00:00.000000000Z', 'bid': {'o': '1.15294', 'h': '1.15467', 'l': '1.15176', 'c': '1.15415'}, 'mid': {'o': '1.15302', 'h': '1.15475', 'l': '1.15184', 'c': '1.15422'}, 'ask': {'o': '1.15310', 'h': '1.15484', 'l': '1.15193', 'c': '1.15429'}}\n",
      "{'complete': True, 'volume': 19152, 'time': '2025-04-22T06:00:00.000000000Z', 'bid': {'o': '1.15415', 'h': '1.15452', 'l': '1.14954', 'c': '1.15002'}, 'mid': {'o': '1.15424', 'h': '1.15460', 'l': '1.14962', 'c': '1.15009'}, 'ask': {'o': '1.15432', 'h': '1.15467', 'l': '1.14970', 'c': '1.15016'}}\n",
      "{'complete': True, 'volume': 18611, 'time': '2025-04-22T07:00:00.000000000Z', 'bid': {'o': '1.15001', 'h': '1.15084', 'l': '1.14825', 'c': '1.15050'}, 'mid': {'o': '1.15008', 'h': '1.15092', 'l': '1.14833', 'c': '1.15058'}, 'ask': {'o': '1.15016', 'h': '1.15099', 'l': '1.14841', 'c': '1.15065'}}\n",
      "{'complete': False, 'volume': 5306, 'time': '2025-04-22T08:00:00.000000000Z', 'bid': {'o': '1.15050', 'h': '1.15090', 'l': '1.14941', 'c': '1.14974'}, 'mid': {'o': '1.15058', 'h': '1.15097', 'l': '1.14948', 'c': '1.14982'}, 'ask': {'o': '1.15066', 'h': '1.15105', 'l': '1.14955', 'c': '1.14991'}}\n"
     ]
    }
   ],
   "source": [
    "\n",
    "print(prices)\n",
    "for candle in data['candles']:\n",
    "    print(candle)\n",
    "    "
   ]
  },
  {
   "cell_type": "code",
   "execution_count": 50,
   "id": "9885de3b",
   "metadata": {},
   "outputs": [
    {
     "name": "stdout",
     "output_type": "stream",
     "text": [
      "{'time': '2025-04-21T23:00:00.000000000Z', 'volume': 5013, 'bid_o': '1.15228', 'bid_h': '1.15232', 'bid_l': '1.15071', 'bid_c': '1.15133', 'mid_o': '1.15236', 'mid_h': '1.15241', 'mid_l': '1.15078', 'mid_c': '1.15142', 'ask_o': '1.15245', 'ask_h': '1.15250', 'ask_l': '1.15085', 'ask_c': '1.15152'}\n"
     ]
    }
   ],
   "source": [
    "our_data = []\n",
    "for candle in data['candles']:\n",
    "    if candle['complete'] == False:\n",
    "        continue\n",
    "    new_dict = {}\n",
    "    new_dict['time'] = candle['time']\n",
    "    new_dict['volume'] = candle['volume']\n",
    "    for price in prices:\n",
    "        for oh in ohlc:\n",
    "            new_dict[f\"{price}_{oh}\"] = candle[price][oh]\n",
    "    our_data.append(new_dict)\n",
    "print(our_data[0])"
   ]
  },
  {
   "cell_type": "code",
   "execution_count": 51,
   "id": "033c09f4",
   "metadata": {},
   "outputs": [],
   "source": [
    "candles_df = pd.DataFrame.from_dict(our_data)"
   ]
  },
  {
   "cell_type": "code",
   "execution_count": 52,
   "id": "c7be16a8",
   "metadata": {},
   "outputs": [
    {
     "data": {
      "text/html": [
       "<div>\n",
       "<style scoped>\n",
       "    .dataframe tbody tr th:only-of-type {\n",
       "        vertical-align: middle;\n",
       "    }\n",
       "\n",
       "    .dataframe tbody tr th {\n",
       "        vertical-align: top;\n",
       "    }\n",
       "\n",
       "    .dataframe thead th {\n",
       "        text-align: right;\n",
       "    }\n",
       "</style>\n",
       "<table border=\"1\" class=\"dataframe\">\n",
       "  <thead>\n",
       "    <tr style=\"text-align: right;\">\n",
       "      <th></th>\n",
       "      <th>time</th>\n",
       "      <th>volume</th>\n",
       "      <th>bid_o</th>\n",
       "      <th>bid_h</th>\n",
       "      <th>bid_l</th>\n",
       "      <th>bid_c</th>\n",
       "      <th>mid_o</th>\n",
       "      <th>mid_h</th>\n",
       "      <th>mid_l</th>\n",
       "      <th>mid_c</th>\n",
       "      <th>ask_o</th>\n",
       "      <th>ask_h</th>\n",
       "      <th>ask_l</th>\n",
       "      <th>ask_c</th>\n",
       "    </tr>\n",
       "  </thead>\n",
       "  <tbody>\n",
       "    <tr>\n",
       "      <th>0</th>\n",
       "      <td>2025-04-21T23:00:00.000000000Z</td>\n",
       "      <td>5013</td>\n",
       "      <td>1.15228</td>\n",
       "      <td>1.15232</td>\n",
       "      <td>1.15071</td>\n",
       "      <td>1.15133</td>\n",
       "      <td>1.15236</td>\n",
       "      <td>1.15241</td>\n",
       "      <td>1.15078</td>\n",
       "      <td>1.15142</td>\n",
       "      <td>1.15245</td>\n",
       "      <td>1.15250</td>\n",
       "      <td>1.15085</td>\n",
       "      <td>1.15152</td>\n",
       "    </tr>\n",
       "    <tr>\n",
       "      <th>1</th>\n",
       "      <td>2025-04-22T00:00:00.000000000Z</td>\n",
       "      <td>11833</td>\n",
       "      <td>1.15134</td>\n",
       "      <td>1.15137</td>\n",
       "      <td>1.14812</td>\n",
       "      <td>1.14897</td>\n",
       "      <td>1.15143</td>\n",
       "      <td>1.15144</td>\n",
       "      <td>1.14820</td>\n",
       "      <td>1.14904</td>\n",
       "      <td>1.15152</td>\n",
       "      <td>1.15154</td>\n",
       "      <td>1.14828</td>\n",
       "      <td>1.14912</td>\n",
       "    </tr>\n",
       "    <tr>\n",
       "      <th>2</th>\n",
       "      <td>2025-04-22T01:00:00.000000000Z</td>\n",
       "      <td>10590</td>\n",
       "      <td>1.14897</td>\n",
       "      <td>1.14978</td>\n",
       "      <td>1.14849</td>\n",
       "      <td>1.14939</td>\n",
       "      <td>1.14905</td>\n",
       "      <td>1.14986</td>\n",
       "      <td>1.14858</td>\n",
       "      <td>1.14947</td>\n",
       "      <td>1.14913</td>\n",
       "      <td>1.14994</td>\n",
       "      <td>1.14866</td>\n",
       "      <td>1.14955</td>\n",
       "    </tr>\n",
       "    <tr>\n",
       "      <th>3</th>\n",
       "      <td>2025-04-22T02:00:00.000000000Z</td>\n",
       "      <td>6829</td>\n",
       "      <td>1.14942</td>\n",
       "      <td>1.15199</td>\n",
       "      <td>1.14931</td>\n",
       "      <td>1.15198</td>\n",
       "      <td>1.14950</td>\n",
       "      <td>1.15208</td>\n",
       "      <td>1.14939</td>\n",
       "      <td>1.15206</td>\n",
       "      <td>1.14957</td>\n",
       "      <td>1.15216</td>\n",
       "      <td>1.14947</td>\n",
       "      <td>1.15215</td>\n",
       "    </tr>\n",
       "    <tr>\n",
       "      <th>4</th>\n",
       "      <td>2025-04-22T03:00:00.000000000Z</td>\n",
       "      <td>10267</td>\n",
       "      <td>1.15197</td>\n",
       "      <td>1.15401</td>\n",
       "      <td>1.15182</td>\n",
       "      <td>1.15339</td>\n",
       "      <td>1.15206</td>\n",
       "      <td>1.15409</td>\n",
       "      <td>1.15190</td>\n",
       "      <td>1.15348</td>\n",
       "      <td>1.15215</td>\n",
       "      <td>1.15417</td>\n",
       "      <td>1.15198</td>\n",
       "      <td>1.15357</td>\n",
       "    </tr>\n",
       "    <tr>\n",
       "      <th>5</th>\n",
       "      <td>2025-04-22T04:00:00.000000000Z</td>\n",
       "      <td>5827</td>\n",
       "      <td>1.15340</td>\n",
       "      <td>1.15395</td>\n",
       "      <td>1.15265</td>\n",
       "      <td>1.15294</td>\n",
       "      <td>1.15348</td>\n",
       "      <td>1.15403</td>\n",
       "      <td>1.15273</td>\n",
       "      <td>1.15302</td>\n",
       "      <td>1.15357</td>\n",
       "      <td>1.15411</td>\n",
       "      <td>1.15281</td>\n",
       "      <td>1.15311</td>\n",
       "    </tr>\n",
       "    <tr>\n",
       "      <th>6</th>\n",
       "      <td>2025-04-22T05:00:00.000000000Z</td>\n",
       "      <td>12376</td>\n",
       "      <td>1.15294</td>\n",
       "      <td>1.15467</td>\n",
       "      <td>1.15176</td>\n",
       "      <td>1.15415</td>\n",
       "      <td>1.15302</td>\n",
       "      <td>1.15475</td>\n",
       "      <td>1.15184</td>\n",
       "      <td>1.15422</td>\n",
       "      <td>1.15310</td>\n",
       "      <td>1.15484</td>\n",
       "      <td>1.15193</td>\n",
       "      <td>1.15429</td>\n",
       "    </tr>\n",
       "    <tr>\n",
       "      <th>7</th>\n",
       "      <td>2025-04-22T06:00:00.000000000Z</td>\n",
       "      <td>19152</td>\n",
       "      <td>1.15415</td>\n",
       "      <td>1.15452</td>\n",
       "      <td>1.14954</td>\n",
       "      <td>1.15002</td>\n",
       "      <td>1.15424</td>\n",
       "      <td>1.15460</td>\n",
       "      <td>1.14962</td>\n",
       "      <td>1.15009</td>\n",
       "      <td>1.15432</td>\n",
       "      <td>1.15467</td>\n",
       "      <td>1.14970</td>\n",
       "      <td>1.15016</td>\n",
       "    </tr>\n",
       "    <tr>\n",
       "      <th>8</th>\n",
       "      <td>2025-04-22T07:00:00.000000000Z</td>\n",
       "      <td>18611</td>\n",
       "      <td>1.15001</td>\n",
       "      <td>1.15084</td>\n",
       "      <td>1.14825</td>\n",
       "      <td>1.15050</td>\n",
       "      <td>1.15008</td>\n",
       "      <td>1.15092</td>\n",
       "      <td>1.14833</td>\n",
       "      <td>1.15058</td>\n",
       "      <td>1.15016</td>\n",
       "      <td>1.15099</td>\n",
       "      <td>1.14841</td>\n",
       "      <td>1.15065</td>\n",
       "    </tr>\n",
       "  </tbody>\n",
       "</table>\n",
       "</div>"
      ],
      "text/plain": [
       "                             time  volume    bid_o    bid_h    bid_l    bid_c  \\\n",
       "0  2025-04-21T23:00:00.000000000Z    5013  1.15228  1.15232  1.15071  1.15133   \n",
       "1  2025-04-22T00:00:00.000000000Z   11833  1.15134  1.15137  1.14812  1.14897   \n",
       "2  2025-04-22T01:00:00.000000000Z   10590  1.14897  1.14978  1.14849  1.14939   \n",
       "3  2025-04-22T02:00:00.000000000Z    6829  1.14942  1.15199  1.14931  1.15198   \n",
       "4  2025-04-22T03:00:00.000000000Z   10267  1.15197  1.15401  1.15182  1.15339   \n",
       "5  2025-04-22T04:00:00.000000000Z    5827  1.15340  1.15395  1.15265  1.15294   \n",
       "6  2025-04-22T05:00:00.000000000Z   12376  1.15294  1.15467  1.15176  1.15415   \n",
       "7  2025-04-22T06:00:00.000000000Z   19152  1.15415  1.15452  1.14954  1.15002   \n",
       "8  2025-04-22T07:00:00.000000000Z   18611  1.15001  1.15084  1.14825  1.15050   \n",
       "\n",
       "     mid_o    mid_h    mid_l    mid_c    ask_o    ask_h    ask_l    ask_c  \n",
       "0  1.15236  1.15241  1.15078  1.15142  1.15245  1.15250  1.15085  1.15152  \n",
       "1  1.15143  1.15144  1.14820  1.14904  1.15152  1.15154  1.14828  1.14912  \n",
       "2  1.14905  1.14986  1.14858  1.14947  1.14913  1.14994  1.14866  1.14955  \n",
       "3  1.14950  1.15208  1.14939  1.15206  1.14957  1.15216  1.14947  1.15215  \n",
       "4  1.15206  1.15409  1.15190  1.15348  1.15215  1.15417  1.15198  1.15357  \n",
       "5  1.15348  1.15403  1.15273  1.15302  1.15357  1.15411  1.15281  1.15311  \n",
       "6  1.15302  1.15475  1.15184  1.15422  1.15310  1.15484  1.15193  1.15429  \n",
       "7  1.15424  1.15460  1.14962  1.15009  1.15432  1.15467  1.14970  1.15016  \n",
       "8  1.15008  1.15092  1.14833  1.15058  1.15016  1.15099  1.14841  1.15065  "
      ]
     },
     "execution_count": 52,
     "metadata": {},
     "output_type": "execute_result"
    }
   ],
   "source": [
    "candles_df"
   ]
  },
  {
   "cell_type": "code",
   "execution_count": 53,
   "id": "509dc737",
   "metadata": {},
   "outputs": [],
   "source": [
    "candles_df.to_pickle(\"EUR_USD_H1.pkl\")"
   ]
  },
  {
   "cell_type": "code",
   "execution_count": 54,
   "id": "7ae22083",
   "metadata": {},
   "outputs": [],
   "source": [
    "test_df = pd.read_pickle(\"EUR_USD_H1.pkl\")"
   ]
  },
  {
   "cell_type": "code",
   "execution_count": 55,
   "id": "6ae5b675",
   "metadata": {},
   "outputs": [
    {
     "data": {
      "text/html": [
       "<div>\n",
       "<style scoped>\n",
       "    .dataframe tbody tr th:only-of-type {\n",
       "        vertical-align: middle;\n",
       "    }\n",
       "\n",
       "    .dataframe tbody tr th {\n",
       "        vertical-align: top;\n",
       "    }\n",
       "\n",
       "    .dataframe thead th {\n",
       "        text-align: right;\n",
       "    }\n",
       "</style>\n",
       "<table border=\"1\" class=\"dataframe\">\n",
       "  <thead>\n",
       "    <tr style=\"text-align: right;\">\n",
       "      <th></th>\n",
       "      <th>time</th>\n",
       "      <th>volume</th>\n",
       "      <th>bid_o</th>\n",
       "      <th>bid_h</th>\n",
       "      <th>bid_l</th>\n",
       "      <th>bid_c</th>\n",
       "      <th>mid_o</th>\n",
       "      <th>mid_h</th>\n",
       "      <th>mid_l</th>\n",
       "      <th>mid_c</th>\n",
       "      <th>ask_o</th>\n",
       "      <th>ask_h</th>\n",
       "      <th>ask_l</th>\n",
       "      <th>ask_c</th>\n",
       "    </tr>\n",
       "  </thead>\n",
       "  <tbody>\n",
       "    <tr>\n",
       "      <th>0</th>\n",
       "      <td>2025-04-21T23:00:00.000000000Z</td>\n",
       "      <td>5013</td>\n",
       "      <td>1.15228</td>\n",
       "      <td>1.15232</td>\n",
       "      <td>1.15071</td>\n",
       "      <td>1.15133</td>\n",
       "      <td>1.15236</td>\n",
       "      <td>1.15241</td>\n",
       "      <td>1.15078</td>\n",
       "      <td>1.15142</td>\n",
       "      <td>1.15245</td>\n",
       "      <td>1.15250</td>\n",
       "      <td>1.15085</td>\n",
       "      <td>1.15152</td>\n",
       "    </tr>\n",
       "    <tr>\n",
       "      <th>1</th>\n",
       "      <td>2025-04-22T00:00:00.000000000Z</td>\n",
       "      <td>11833</td>\n",
       "      <td>1.15134</td>\n",
       "      <td>1.15137</td>\n",
       "      <td>1.14812</td>\n",
       "      <td>1.14897</td>\n",
       "      <td>1.15143</td>\n",
       "      <td>1.15144</td>\n",
       "      <td>1.14820</td>\n",
       "      <td>1.14904</td>\n",
       "      <td>1.15152</td>\n",
       "      <td>1.15154</td>\n",
       "      <td>1.14828</td>\n",
       "      <td>1.14912</td>\n",
       "    </tr>\n",
       "    <tr>\n",
       "      <th>2</th>\n",
       "      <td>2025-04-22T01:00:00.000000000Z</td>\n",
       "      <td>10590</td>\n",
       "      <td>1.14897</td>\n",
       "      <td>1.14978</td>\n",
       "      <td>1.14849</td>\n",
       "      <td>1.14939</td>\n",
       "      <td>1.14905</td>\n",
       "      <td>1.14986</td>\n",
       "      <td>1.14858</td>\n",
       "      <td>1.14947</td>\n",
       "      <td>1.14913</td>\n",
       "      <td>1.14994</td>\n",
       "      <td>1.14866</td>\n",
       "      <td>1.14955</td>\n",
       "    </tr>\n",
       "    <tr>\n",
       "      <th>3</th>\n",
       "      <td>2025-04-22T02:00:00.000000000Z</td>\n",
       "      <td>6829</td>\n",
       "      <td>1.14942</td>\n",
       "      <td>1.15199</td>\n",
       "      <td>1.14931</td>\n",
       "      <td>1.15198</td>\n",
       "      <td>1.14950</td>\n",
       "      <td>1.15208</td>\n",
       "      <td>1.14939</td>\n",
       "      <td>1.15206</td>\n",
       "      <td>1.14957</td>\n",
       "      <td>1.15216</td>\n",
       "      <td>1.14947</td>\n",
       "      <td>1.15215</td>\n",
       "    </tr>\n",
       "    <tr>\n",
       "      <th>4</th>\n",
       "      <td>2025-04-22T03:00:00.000000000Z</td>\n",
       "      <td>10267</td>\n",
       "      <td>1.15197</td>\n",
       "      <td>1.15401</td>\n",
       "      <td>1.15182</td>\n",
       "      <td>1.15339</td>\n",
       "      <td>1.15206</td>\n",
       "      <td>1.15409</td>\n",
       "      <td>1.15190</td>\n",
       "      <td>1.15348</td>\n",
       "      <td>1.15215</td>\n",
       "      <td>1.15417</td>\n",
       "      <td>1.15198</td>\n",
       "      <td>1.15357</td>\n",
       "    </tr>\n",
       "    <tr>\n",
       "      <th>5</th>\n",
       "      <td>2025-04-22T04:00:00.000000000Z</td>\n",
       "      <td>5827</td>\n",
       "      <td>1.15340</td>\n",
       "      <td>1.15395</td>\n",
       "      <td>1.15265</td>\n",
       "      <td>1.15294</td>\n",
       "      <td>1.15348</td>\n",
       "      <td>1.15403</td>\n",
       "      <td>1.15273</td>\n",
       "      <td>1.15302</td>\n",
       "      <td>1.15357</td>\n",
       "      <td>1.15411</td>\n",
       "      <td>1.15281</td>\n",
       "      <td>1.15311</td>\n",
       "    </tr>\n",
       "    <tr>\n",
       "      <th>6</th>\n",
       "      <td>2025-04-22T05:00:00.000000000Z</td>\n",
       "      <td>12376</td>\n",
       "      <td>1.15294</td>\n",
       "      <td>1.15467</td>\n",
       "      <td>1.15176</td>\n",
       "      <td>1.15415</td>\n",
       "      <td>1.15302</td>\n",
       "      <td>1.15475</td>\n",
       "      <td>1.15184</td>\n",
       "      <td>1.15422</td>\n",
       "      <td>1.15310</td>\n",
       "      <td>1.15484</td>\n",
       "      <td>1.15193</td>\n",
       "      <td>1.15429</td>\n",
       "    </tr>\n",
       "    <tr>\n",
       "      <th>7</th>\n",
       "      <td>2025-04-22T06:00:00.000000000Z</td>\n",
       "      <td>19152</td>\n",
       "      <td>1.15415</td>\n",
       "      <td>1.15452</td>\n",
       "      <td>1.14954</td>\n",
       "      <td>1.15002</td>\n",
       "      <td>1.15424</td>\n",
       "      <td>1.15460</td>\n",
       "      <td>1.14962</td>\n",
       "      <td>1.15009</td>\n",
       "      <td>1.15432</td>\n",
       "      <td>1.15467</td>\n",
       "      <td>1.14970</td>\n",
       "      <td>1.15016</td>\n",
       "    </tr>\n",
       "    <tr>\n",
       "      <th>8</th>\n",
       "      <td>2025-04-22T07:00:00.000000000Z</td>\n",
       "      <td>18611</td>\n",
       "      <td>1.15001</td>\n",
       "      <td>1.15084</td>\n",
       "      <td>1.14825</td>\n",
       "      <td>1.15050</td>\n",
       "      <td>1.15008</td>\n",
       "      <td>1.15092</td>\n",
       "      <td>1.14833</td>\n",
       "      <td>1.15058</td>\n",
       "      <td>1.15016</td>\n",
       "      <td>1.15099</td>\n",
       "      <td>1.14841</td>\n",
       "      <td>1.15065</td>\n",
       "    </tr>\n",
       "  </tbody>\n",
       "</table>\n",
       "</div>"
      ],
      "text/plain": [
       "                             time  volume    bid_o    bid_h    bid_l    bid_c  \\\n",
       "0  2025-04-21T23:00:00.000000000Z    5013  1.15228  1.15232  1.15071  1.15133   \n",
       "1  2025-04-22T00:00:00.000000000Z   11833  1.15134  1.15137  1.14812  1.14897   \n",
       "2  2025-04-22T01:00:00.000000000Z   10590  1.14897  1.14978  1.14849  1.14939   \n",
       "3  2025-04-22T02:00:00.000000000Z    6829  1.14942  1.15199  1.14931  1.15198   \n",
       "4  2025-04-22T03:00:00.000000000Z   10267  1.15197  1.15401  1.15182  1.15339   \n",
       "5  2025-04-22T04:00:00.000000000Z    5827  1.15340  1.15395  1.15265  1.15294   \n",
       "6  2025-04-22T05:00:00.000000000Z   12376  1.15294  1.15467  1.15176  1.15415   \n",
       "7  2025-04-22T06:00:00.000000000Z   19152  1.15415  1.15452  1.14954  1.15002   \n",
       "8  2025-04-22T07:00:00.000000000Z   18611  1.15001  1.15084  1.14825  1.15050   \n",
       "\n",
       "     mid_o    mid_h    mid_l    mid_c    ask_o    ask_h    ask_l    ask_c  \n",
       "0  1.15236  1.15241  1.15078  1.15142  1.15245  1.15250  1.15085  1.15152  \n",
       "1  1.15143  1.15144  1.14820  1.14904  1.15152  1.15154  1.14828  1.14912  \n",
       "2  1.14905  1.14986  1.14858  1.14947  1.14913  1.14994  1.14866  1.14955  \n",
       "3  1.14950  1.15208  1.14939  1.15206  1.14957  1.15216  1.14947  1.15215  \n",
       "4  1.15206  1.15409  1.15190  1.15348  1.15215  1.15417  1.15198  1.15357  \n",
       "5  1.15348  1.15403  1.15273  1.15302  1.15357  1.15411  1.15281  1.15311  \n",
       "6  1.15302  1.15475  1.15184  1.15422  1.15310  1.15484  1.15193  1.15429  \n",
       "7  1.15424  1.15460  1.14962  1.15009  1.15432  1.15467  1.14970  1.15016  \n",
       "8  1.15008  1.15092  1.14833  1.15058  1.15016  1.15099  1.14841  1.15065  "
      ]
     },
     "execution_count": 55,
     "metadata": {},
     "output_type": "execute_result"
    }
   ],
   "source": [
    "test_df"
   ]
  },
  {
   "cell_type": "code",
   "execution_count": null,
   "id": "ed848812",
   "metadata": {},
   "outputs": [],
   "source": []
  }
 ],
 "metadata": {
  "kernelspec": {
   "display_name": "venv (3.13.3)",
   "language": "python",
   "name": "python3"
  },
  "language_info": {
   "codemirror_mode": {
    "name": "ipython",
    "version": 3
   },
   "file_extension": ".py",
   "mimetype": "text/x-python",
   "name": "python",
   "nbconvert_exporter": "python",
   "pygments_lexer": "ipython3",
   "version": "3.13.3"
  }
 },
 "nbformat": 4,
 "nbformat_minor": 5
}
