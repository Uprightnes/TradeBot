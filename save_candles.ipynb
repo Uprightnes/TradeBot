{
 "cells": [
  {
   "cell_type": "code",
   "execution_count": 1,
   "id": "feaf682c",
   "metadata": {},
   "outputs": [],
   "source": [
    "import requests\n",
    "import defs\n",
    "import pandas as pd\n"
   ]
  },
  {
   "cell_type": "code",
   "execution_count": 2,
   "id": "74c32e54",
   "metadata": {},
   "outputs": [],
   "source": [
    "session = requests.Session()"
   ]
  },
  {
   "cell_type": "code",
   "execution_count": 3,
   "id": "1bca79f3",
   "metadata": {},
   "outputs": [],
   "source": [
    "ins_df = pd.read_pickle(\"instruments.pkl\")"
   ]
  },
  {
   "cell_type": "code",
   "execution_count": 4,
   "id": "97cb4f17",
   "metadata": {},
   "outputs": [],
   "source": [
    "our_curr = ['EUR', 'USD', 'GBP', 'JPY', 'CHF', 'NZD', 'CAD']"
   ]
  },
  {
   "cell_type": "code",
   "execution_count": 5,
   "id": "da24bb00",
   "metadata": {},
   "outputs": [],
   "source": [
    "def fetch_candles(pair_name, count, granularity):\n",
    "    url = f\"{defs.OANDO_URL}/instruments/{pair_name}/candles\"\n",
    "    params = dict(\n",
    "        count=count,\n",
    "        granularity=granularity,\n",
    "        price=\"MBA\"\n",
    "    )\n",
    "    response = session.get(url, params=params, headers=defs.SECURE_HEADER)\n",
    "    return response.status_code, response.json()"
   ]
  },
  {
   "cell_type": "code",
   "execution_count": 6,
   "id": "d3512f8f",
   "metadata": {},
   "outputs": [
    {
     "name": "stdout",
     "output_type": "stream",
     "text": [
      "200\n"
     ]
    }
   ],
   "source": [
    "code, res = fetch_candles(\"EUR_USD\", 10, \"H1\")\n",
    "print(code)"
   ]
  },
  {
   "cell_type": "code",
   "execution_count": 7,
   "id": "ae34af2a",
   "metadata": {},
   "outputs": [],
   "source": [
    "def get_candles_df(json_response):\n",
    "    prices = ['mid', 'bid', 'ask']\n",
    "    ohlc = ['o', 'h', 'l', 'c']\n",
    "\n",
    "    our_data = []\n",
    "    for candle in json_response['candles']:\n",
    "        if candle['complete'] == False:\n",
    "            continue\n",
    "        new_dict = {}\n",
    "        new_dict['time'] = candle['time']\n",
    "        new_dict['volume'] = candle['volume']\n",
    "        for price in prices:\n",
    "            for oh in ohlc:\n",
    "                new_dict[f\"{price}_{oh}\"] = candle[price][oh]\n",
    "        our_data.append(new_dict)\n",
    "    return pd.DataFrame.from_dict(our_data)"
   ]
  },
  {
   "cell_type": "markdown",
   "id": "6fbff717",
   "metadata": {},
   "source": []
  },
  {
   "cell_type": "code",
   "execution_count": 8,
   "id": "3651d7bf",
   "metadata": {},
   "outputs": [],
   "source": [
    "def save_file(candles_df, pair_name, granularity):\n",
    "    candles_df.to_pickle(f\"his_data/{pair_name}_{granularity}.pkl\")\n",
    "   "
   ]
  },
  {
   "cell_type": "code",
   "execution_count": 9,
   "id": "99ae76f7",
   "metadata": {},
   "outputs": [],
   "source": [
    "def create_data(pair, granularity):\n",
    "    code, json_data = fetch_candles(pair, 4000, granularity)\n",
    "    if code != 200:\n",
    "        print(f\"Error fetching data for {pair} with granularity {granularity}: {code}\")\n",
    "        return\n",
    "    df = get_candles_df(json_data)\n",
    "    print(f\"{pair} loaded {df.shape[0]} candles from {df.time.min()} to {df.time.max()}\")\n",
    "    save_file(df, pair, granularity)"
   ]
  },
  {
   "cell_type": "code",
   "execution_count": 16,
   "id": "f61d13d4",
   "metadata": {},
   "outputs": [
    {
     "name": "stdout",
     "output_type": "stream",
     "text": [
      "EUR_USD loaded 3999 candles from 2024-09-03T19:00:00.000000000Z to 2025-04-28T09:00:00.000000000Z\n",
      "EUR_GBP loaded 3999 candles from 2024-09-03T19:00:00.000000000Z to 2025-04-28T09:00:00.000000000Z\n",
      "EUR_JPY loaded 3999 candles from 2024-09-03T19:00:00.000000000Z to 2025-04-28T09:00:00.000000000Z\n",
      "EUR_CHF loaded 3999 candles from 2024-09-03T19:00:00.000000000Z to 2025-04-28T09:00:00.000000000Z\n",
      "EUR_NZD loaded 3999 candles from 2024-09-03T18:00:00.000000000Z to 2025-04-28T09:00:00.000000000Z\n",
      "EUR_CAD loaded 3999 candles from 2024-09-03T19:00:00.000000000Z to 2025-04-28T09:00:00.000000000Z\n",
      "USD_JPY loaded 3999 candles from 2024-09-03T19:00:00.000000000Z to 2025-04-28T09:00:00.000000000Z\n",
      "USD_CHF loaded 3999 candles from 2024-09-03T19:00:00.000000000Z to 2025-04-28T09:00:00.000000000Z\n",
      "USD_CAD loaded 3999 candles from 2024-09-03T19:00:00.000000000Z to 2025-04-28T09:00:00.000000000Z\n",
      "GBP_USD loaded 3999 candles from 2024-09-03T19:00:00.000000000Z to 2025-04-28T09:00:00.000000000Z\n",
      "GBP_JPY loaded 3999 candles from 2024-09-03T19:00:00.000000000Z to 2025-04-28T09:00:00.000000000Z\n",
      "GBP_CHF loaded 3999 candles from 2024-09-03T19:00:00.000000000Z to 2025-04-28T09:00:00.000000000Z\n",
      "GBP_NZD loaded 3999 candles from 2024-09-03T17:00:00.000000000Z to 2025-04-28T09:00:00.000000000Z\n",
      "GBP_CAD loaded 3999 candles from 2024-09-03T19:00:00.000000000Z to 2025-04-28T09:00:00.000000000Z\n",
      "CHF_JPY loaded 3999 candles from 2024-09-03T17:00:00.000000000Z to 2025-04-28T09:00:00.000000000Z\n",
      "NZD_USD loaded 3999 candles from 2024-09-03T19:00:00.000000000Z to 2025-04-28T09:00:00.000000000Z\n",
      "NZD_JPY loaded 3999 candles from 2024-09-03T18:00:00.000000000Z to 2025-04-28T09:00:00.000000000Z\n",
      "NZD_CHF loaded 3999 candles from 2024-09-03T17:00:00.000000000Z to 2025-04-28T09:00:00.000000000Z\n",
      "NZD_CAD loaded 3999 candles from 2024-09-03T18:00:00.000000000Z to 2025-04-28T09:00:00.000000000Z\n",
      "CAD_JPY loaded 3999 candles from 2024-09-03T19:00:00.000000000Z to 2025-04-28T09:00:00.000000000Z\n",
      "CAD_CHF loaded 3999 candles from 2024-09-03T18:00:00.000000000Z to 2025-04-28T09:00:00.000000000Z\n"
     ]
    }
   ],
   "source": [
    "for p1 in our_curr:\n",
    "    for p2 in our_curr:\n",
    "        pair = f\"{p1}_{p2}\"\n",
    "        if pair in ins_df.name.unique():\n",
    "            create_data(pair, \"H1\")"
   ]
  },
  {
   "cell_type": "code",
   "execution_count": null,
   "id": "a2f721c2",
   "metadata": {},
   "outputs": [],
   "source": []
  }
 ],
 "metadata": {
  "kernelspec": {
   "display_name": "venv (3.13.3)",
   "language": "python",
   "name": "python3"
  },
  "language_info": {
   "codemirror_mode": {
    "name": "ipython",
    "version": 3
   },
   "file_extension": ".py",
   "mimetype": "text/x-python",
   "name": "python",
   "nbconvert_exporter": "python",
   "pygments_lexer": "ipython3",
   "version": "3.13.3"
  }
 },
 "nbformat": 4,
 "nbformat_minor": 5
}
